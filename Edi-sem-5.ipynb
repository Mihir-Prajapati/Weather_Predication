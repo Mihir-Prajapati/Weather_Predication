{
 "metadata": {
  "language_info": {
   "codemirror_mode": {
    "name": "ipython",
    "version": 3
   },
   "file_extension": ".py",
   "mimetype": "text/x-python",
   "name": "python",
   "nbconvert_exporter": "python",
   "pygments_lexer": "ipython3",
   "version": "3.8.5-final"
  },
  "orig_nbformat": 2,
  "kernelspec": {
   "name": "python3",
   "display_name": "Python 3.8.5 32-bit",
   "metadata": {
    "interpreter": {
     "hash": "a5ff8bd412277661f1de1d86e35918412ea041cf137c6afab37adfce3e67ae0c"
    }
   }
  }
 },
 "nbformat": 4,
 "nbformat_minor": 2,
 "cells": [
  {
   "cell_type": "code",
   "execution_count": 1,
   "metadata": {},
   "outputs": [],
   "source": [
    "import matplotlib.pyplot as plt\n",
    "import numpy as np\n",
    "from scipy.stats import pearsonr\n",
    "import pandas as pd\n",
    "from sklearn.cluster import KMeans\n",
    "from sklearn.metrics import classification_report, confusion_matrix\n",
    "from sklearn.linear_model import LinearRegression\n",
    "from sklearn.metrics import accuracy_score\n",
    "from sklearn.svm import SVC\n",
    "from sklearn.model_selection import train_test_split\n",
    "from sklearn.metrics import confusion_matrix, accuracy_score\n",
    "from sklearn.impute import SimpleImputer\n",
    "\n",
    "dataFrame_1 = pd.read_csv(\"DailyDelhiClimateTrain.csv\")"
   ]
  },
  {
   "cell_type": "code",
   "execution_count": 2,
   "metadata": {},
   "outputs": [
    {
     "output_type": "execute_result",
     "data": {
      "text/plain": [
       "<bound method NDFrame.describe of             date   meantemp    humidity  wind_speed  meanpressure\n",
       "0     01-01-2013  10.000000   84.500000    0.000000   1015.666667\n",
       "1     02-01-2013   7.400000   92.000000    2.980000   1017.800000\n",
       "2     03-01-2013   7.166667   87.000000    4.633333   1018.666667\n",
       "3     04-01-2013   8.666667   71.333333    1.233333   1017.166667\n",
       "4     05-01-2013   6.000000   86.833333    3.700000   1016.500000\n",
       "...          ...        ...         ...         ...           ...\n",
       "1457  28-12-2016  17.217391   68.043478    3.547826   1015.565217\n",
       "1458  29-12-2016  15.238095   87.857143    6.000000   1016.904762\n",
       "1459  30-12-2016  14.095238   89.666667    6.266667   1017.904762\n",
       "1460  31-12-2016  15.052632   87.000000    7.325000   1016.100000\n",
       "1461  01-01-2017  10.000000  100.000000    0.000000   1016.000000\n",
       "\n",
       "[1462 rows x 5 columns]>"
      ]
     },
     "metadata": {},
     "execution_count": 2
    }
   ],
   "source": [
    "dataFrame_1.describe"
   ]
  },
  {
   "cell_type": "code",
   "execution_count": 3,
   "metadata": {},
   "outputs": [],
   "source": [
    "dataFrame_2 = dataFrame_1.rename(\n",
    "              columns={\"date\": \"Date\", \"meantemp\": \"Temperature\", \n",
    "                       \"humidity\": \"Humidity\",\n",
    "                       \"wind_speed\": \"Wind Speed\",\"meanpressure\": \"Pressure\"}\n",
    "               )"
   ]
  },
  {
   "cell_type": "code",
   "execution_count": 4,
   "metadata": {},
   "outputs": [
    {
     "output_type": "execute_result",
     "data": {
      "text/plain": [
       "<bound method NDFrame.describe of             Date  Temperature    Humidity  Wind Speed     Pressure\n",
       "0     01-01-2013    10.000000   84.500000    0.000000  1015.666667\n",
       "1     02-01-2013     7.400000   92.000000    2.980000  1017.800000\n",
       "2     03-01-2013     7.166667   87.000000    4.633333  1018.666667\n",
       "3     04-01-2013     8.666667   71.333333    1.233333  1017.166667\n",
       "4     05-01-2013     6.000000   86.833333    3.700000  1016.500000\n",
       "...          ...          ...         ...         ...          ...\n",
       "1457  28-12-2016    17.217391   68.043478    3.547826  1015.565217\n",
       "1458  29-12-2016    15.238095   87.857143    6.000000  1016.904762\n",
       "1459  30-12-2016    14.095238   89.666667    6.266667  1017.904762\n",
       "1460  31-12-2016    15.052632   87.000000    7.325000  1016.100000\n",
       "1461  01-01-2017    10.000000  100.000000    0.000000  1016.000000\n",
       "\n",
       "[1462 rows x 5 columns]>"
      ]
     },
     "metadata": {},
     "execution_count": 4
    }
   ],
   "source": [
    "dataFrame_2.describe"
   ]
  },
  {
   "cell_type": "code",
   "execution_count": 5,
   "metadata": {},
   "outputs": [],
   "source": [
    "dataFrame_2=dataFrame_2.dropna()\n",
    "dataFrame_2=dataFrame_2.drop_duplicates()\n",
    "# dataFrame_2.to_csv(\"DailyDelhiClimateTrain_2.csv\", index=False)"
   ]
  },
  {
   "cell_type": "code",
   "execution_count": 6,
   "metadata": {},
   "outputs": [],
   "source": [
    "# dataFrame_2=pd.read_csv(\"DailyDelhiClimateTrain_2.csv\")"
   ]
  },
  {
   "cell_type": "code",
   "execution_count": 7,
   "metadata": {},
   "outputs": [],
   "source": [
    "cols=dataFrame_2.columns\n",
    "for k in range(1,len(cols)):\n",
    "  firstQuartile=dataFrame_2[cols[k]].quantile(.25)\n",
    "  thirdQuartile=dataFrame_2[cols[k]].quantile(.75)\n",
    "  IQR=thirdQuartile-firstQuartile\n",
    "  temp=dataFrame_2[(dataFrame_2[cols[k]]<firstQuartile-1.5*IQR) | (dataFrame_2[cols[k]]>thirdQuartile+1.5*IQR)]\n",
    "  dataFrame_2[cols[k]]=dataFrame_2[cols[k]].drop(temp.index)"
   ]
  },
  {
   "cell_type": "code",
   "execution_count": 8,
   "metadata": {},
   "outputs": [
    {
     "output_type": "execute_result",
     "data": {
      "text/plain": [
       "<bound method NDFrame.describe of             Date  Temperature    Humidity  Wind Speed     Pressure\n",
       "0     01-01-2013    10.000000   84.500000    0.000000  1015.666667\n",
       "1     02-01-2013     7.400000   92.000000    2.980000  1017.800000\n",
       "2     03-01-2013     7.166667   87.000000    4.633333  1018.666667\n",
       "3     04-01-2013     8.666667   71.333333    1.233333  1017.166667\n",
       "4     05-01-2013     6.000000   86.833333    3.700000  1016.500000\n",
       "...          ...          ...         ...         ...          ...\n",
       "1457  28-12-2016    17.217391   68.043478    3.547826  1015.565217\n",
       "1458  29-12-2016    15.238095   87.857143    6.000000  1016.904762\n",
       "1459  30-12-2016    14.095238   89.666667    6.266667  1017.904762\n",
       "1460  31-12-2016    15.052632   87.000000    7.325000  1016.100000\n",
       "1461  01-01-2017    10.000000  100.000000    0.000000  1016.000000\n",
       "\n",
       "[1421 rows x 5 columns]>"
      ]
     },
     "metadata": {},
     "execution_count": 8
    }
   ],
   "source": [
    "dataFrame_3=dataFrame_2.dropna()\n",
    "dataFrame_3.describe"
   ]
  },
  {
   "cell_type": "code",
   "execution_count": 9,
   "metadata": {},
   "outputs": [],
   "source": [
    "# dataFrame_3.to_csv(\"DailyDelhiClimateTrain_3.csv\", index=False)"
   ]
  },
  {
   "cell_type": "code",
   "execution_count": 10,
   "metadata": {},
   "outputs": [],
   "source": [
    "# dataFrame_3=pd.read_csv(\"DailyDelhiClimateTrain_3.csv\")"
   ]
  },
  {
   "cell_type": "code",
   "execution_count": 11,
   "metadata": {},
   "outputs": [
    {
     "output_type": "execute_result",
     "data": {
      "text/plain": [
       "1417"
      ]
     },
     "metadata": {},
     "execution_count": 11
    }
   ],
   "source": [
    "# Take the temp from 2nd day to last day in dataset into variable PredTemp\n",
    "num = 4\n",
    "PredTemp = dataFrame_3[\"Temperature\"][num:]\n",
    "PredHumidity = dataFrame_3[\"Humidity\"][num:]\n",
    "PredPressure = dataFrame_3[\"Pressure\"][num:]\n",
    "PredWindSpeed = dataFrame_3[\"Wind Speed\"][num:]\n",
    "rows = PredTemp.shape[0]\n",
    "# Check how many rows are there\n",
    "rows"
   ]
  },
  {
   "cell_type": "code",
   "execution_count": 12,
   "metadata": {},
   "outputs": [],
   "source": [
    "# Add new columns for prediction variables are adding tupples to them\n",
    "dataFrame_3[\"Prediction_Temperature\"] = PredTemp\n",
    "dataFrame_3[\"Prediction_Humidity\"] = PredHumidity\n",
    "dataFrame_3[\"Prediction_Pressure\"] = PredPressure\n",
    "dataFrame_3[\"Prediction_Wind Speed\"]=PredWindSpeed"
   ]
  },
  {
   "cell_type": "code",
   "execution_count": 13,
   "metadata": {},
   "outputs": [
    {
     "output_type": "execute_result",
     "data": {
      "text/plain": [
       "            Date  Temperature    Humidity  Wind Speed     Pressure  \\\n",
       "0     01-01-2013    10.000000   84.500000    0.000000  1015.666667   \n",
       "1     02-01-2013     7.400000   92.000000    2.980000  1017.800000   \n",
       "2     03-01-2013     7.166667   87.000000    4.633333  1018.666667   \n",
       "3     04-01-2013     8.666667   71.333333    1.233333  1017.166667   \n",
       "4     05-01-2013     6.000000   86.833333    3.700000  1016.500000   \n",
       "...          ...          ...         ...         ...          ...   \n",
       "1457  28-12-2016    17.217391   68.043478    3.547826  1015.565217   \n",
       "1458  29-12-2016    15.238095   87.857143    6.000000  1016.904762   \n",
       "1459  30-12-2016    14.095238   89.666667    6.266667  1017.904762   \n",
       "1460  31-12-2016    15.052632   87.000000    7.325000  1016.100000   \n",
       "1461  01-01-2017    10.000000  100.000000    0.000000  1016.000000   \n",
       "\n",
       "      Prediction_Temperature  Prediction_Humidity  Prediction_Pressure  \\\n",
       "0                   6.000000            86.833333          1016.500000   \n",
       "1                   7.000000            82.800000          1018.000000   \n",
       "2                   7.000000            78.600000          1020.000000   \n",
       "3                   8.857143            63.714286          1018.714286   \n",
       "4                  14.000000            51.250000          1017.000000   \n",
       "...                      ...                  ...                  ...   \n",
       "1457               10.000000           100.000000          1016.000000   \n",
       "1458               15.238095            87.857143          1016.904762   \n",
       "1459               14.095238            89.666667          1017.904762   \n",
       "1460               15.052632            87.000000          1016.100000   \n",
       "1461               10.000000           100.000000          1016.000000   \n",
       "\n",
       "      Prediction_Wind Speed  \n",
       "0                  3.700000  \n",
       "1                  1.480000  \n",
       "2                  6.300000  \n",
       "3                  7.142857  \n",
       "4                 12.500000  \n",
       "...                     ...  \n",
       "1457               0.000000  \n",
       "1458               6.000000  \n",
       "1459               6.266667  \n",
       "1460               7.325000  \n",
       "1461               0.000000  \n",
       "\n",
       "[1421 rows x 9 columns]"
      ],
      "text/html": "<div>\n<style scoped>\n    .dataframe tbody tr th:only-of-type {\n        vertical-align: middle;\n    }\n\n    .dataframe tbody tr th {\n        vertical-align: top;\n    }\n\n    .dataframe thead th {\n        text-align: right;\n    }\n</style>\n<table border=\"1\" class=\"dataframe\">\n  <thead>\n    <tr style=\"text-align: right;\">\n      <th></th>\n      <th>Date</th>\n      <th>Temperature</th>\n      <th>Humidity</th>\n      <th>Wind Speed</th>\n      <th>Pressure</th>\n      <th>Prediction_Temperature</th>\n      <th>Prediction_Humidity</th>\n      <th>Prediction_Pressure</th>\n      <th>Prediction_Wind Speed</th>\n    </tr>\n  </thead>\n  <tbody>\n    <tr>\n      <th>0</th>\n      <td>01-01-2013</td>\n      <td>10.000000</td>\n      <td>84.500000</td>\n      <td>0.000000</td>\n      <td>1015.666667</td>\n      <td>6.000000</td>\n      <td>86.833333</td>\n      <td>1016.500000</td>\n      <td>3.700000</td>\n    </tr>\n    <tr>\n      <th>1</th>\n      <td>02-01-2013</td>\n      <td>7.400000</td>\n      <td>92.000000</td>\n      <td>2.980000</td>\n      <td>1017.800000</td>\n      <td>7.000000</td>\n      <td>82.800000</td>\n      <td>1018.000000</td>\n      <td>1.480000</td>\n    </tr>\n    <tr>\n      <th>2</th>\n      <td>03-01-2013</td>\n      <td>7.166667</td>\n      <td>87.000000</td>\n      <td>4.633333</td>\n      <td>1018.666667</td>\n      <td>7.000000</td>\n      <td>78.600000</td>\n      <td>1020.000000</td>\n      <td>6.300000</td>\n    </tr>\n    <tr>\n      <th>3</th>\n      <td>04-01-2013</td>\n      <td>8.666667</td>\n      <td>71.333333</td>\n      <td>1.233333</td>\n      <td>1017.166667</td>\n      <td>8.857143</td>\n      <td>63.714286</td>\n      <td>1018.714286</td>\n      <td>7.142857</td>\n    </tr>\n    <tr>\n      <th>4</th>\n      <td>05-01-2013</td>\n      <td>6.000000</td>\n      <td>86.833333</td>\n      <td>3.700000</td>\n      <td>1016.500000</td>\n      <td>14.000000</td>\n      <td>51.250000</td>\n      <td>1017.000000</td>\n      <td>12.500000</td>\n    </tr>\n    <tr>\n      <th>...</th>\n      <td>...</td>\n      <td>...</td>\n      <td>...</td>\n      <td>...</td>\n      <td>...</td>\n      <td>...</td>\n      <td>...</td>\n      <td>...</td>\n      <td>...</td>\n    </tr>\n    <tr>\n      <th>1457</th>\n      <td>28-12-2016</td>\n      <td>17.217391</td>\n      <td>68.043478</td>\n      <td>3.547826</td>\n      <td>1015.565217</td>\n      <td>10.000000</td>\n      <td>100.000000</td>\n      <td>1016.000000</td>\n      <td>0.000000</td>\n    </tr>\n    <tr>\n      <th>1458</th>\n      <td>29-12-2016</td>\n      <td>15.238095</td>\n      <td>87.857143</td>\n      <td>6.000000</td>\n      <td>1016.904762</td>\n      <td>15.238095</td>\n      <td>87.857143</td>\n      <td>1016.904762</td>\n      <td>6.000000</td>\n    </tr>\n    <tr>\n      <th>1459</th>\n      <td>30-12-2016</td>\n      <td>14.095238</td>\n      <td>89.666667</td>\n      <td>6.266667</td>\n      <td>1017.904762</td>\n      <td>14.095238</td>\n      <td>89.666667</td>\n      <td>1017.904762</td>\n      <td>6.266667</td>\n    </tr>\n    <tr>\n      <th>1460</th>\n      <td>31-12-2016</td>\n      <td>15.052632</td>\n      <td>87.000000</td>\n      <td>7.325000</td>\n      <td>1016.100000</td>\n      <td>15.052632</td>\n      <td>87.000000</td>\n      <td>1016.100000</td>\n      <td>7.325000</td>\n    </tr>\n    <tr>\n      <th>1461</th>\n      <td>01-01-2017</td>\n      <td>10.000000</td>\n      <td>100.000000</td>\n      <td>0.000000</td>\n      <td>1016.000000</td>\n      <td>10.000000</td>\n      <td>100.000000</td>\n      <td>1016.000000</td>\n      <td>0.000000</td>\n    </tr>\n  </tbody>\n</table>\n<p>1421 rows × 9 columns</p>\n</div>"
     },
     "metadata": {},
     "execution_count": 13
    }
   ],
   "source": [
    "# add the PredTemp to new column (eg: Prediction_Temp) in dataset\n",
    "dataFrame_3[\"Prediction_Temperature\"][0:rows] = PredTemp\n",
    "dataFrame_3[\"Prediction_Humidity\"][0:rows] = PredHumidity\n",
    "dataFrame_3[\"Prediction_Pressure\"][0:rows] = PredPressure\n",
    "dataFrame_3[\"Prediction_Wind Speed\"][0:rows]=PredWindSpeed\n",
    "dataFrame_3"
   ]
  },
  {
   "cell_type": "code",
   "execution_count": 15,
   "metadata": {},
   "outputs": [
    {
     "output_type": "execute_result",
     "data": {
      "text/plain": [
       "            Date  Temperature   Humidity  Wind Speed     Pressure  \\\n",
       "0     01-01-2013    10.000000  84.500000    0.000000  1015.666667   \n",
       "1     02-01-2013     7.400000  92.000000    2.980000  1017.800000   \n",
       "2     03-01-2013     7.166667  87.000000    4.633333  1018.666667   \n",
       "3     04-01-2013     8.666667  71.333333    1.233333  1017.166667   \n",
       "4     05-01-2013     6.000000  86.833333    3.700000  1016.500000   \n",
       "...          ...          ...        ...         ...          ...   \n",
       "1452  23-12-2016    15.550000  74.700000    1.205000  1014.250000   \n",
       "1453  24-12-2016    17.318182  78.636364    5.236364  1011.318182   \n",
       "1454  25-12-2016    14.000000  94.300000    9.085000  1014.350000   \n",
       "1455  26-12-2016    17.142857  74.857143    8.784211  1016.952381   \n",
       "1456  27-12-2016    16.850000  67.550000    8.335000  1017.200000   \n",
       "\n",
       "      Prediction_Temperature  Prediction_Humidity  Prediction_Pressure  \\\n",
       "0                   6.000000            86.833333          1016.500000   \n",
       "1                   7.000000            82.800000          1018.000000   \n",
       "2                   7.000000            78.600000          1020.000000   \n",
       "3                   8.857143            63.714286          1018.714286   \n",
       "4                  14.000000            51.250000          1017.000000   \n",
       "...                      ...                  ...                  ...   \n",
       "1452               16.850000            67.550000          1017.200000   \n",
       "1453               17.217391            68.043478          1015.565217   \n",
       "1454               15.238095            87.857143          1016.904762   \n",
       "1455               14.095238            89.666667          1017.904762   \n",
       "1456               15.052632            87.000000          1016.100000   \n",
       "\n",
       "      Prediction_Wind Speed  \n",
       "0                  3.700000  \n",
       "1                  1.480000  \n",
       "2                  6.300000  \n",
       "3                  7.142857  \n",
       "4                 12.500000  \n",
       "...                     ...  \n",
       "1452               8.335000  \n",
       "1453               3.547826  \n",
       "1454               6.000000  \n",
       "1455               6.266667  \n",
       "1456               7.325000  \n",
       "\n",
       "[1416 rows x 9 columns]"
      ],
      "text/html": "<div>\n<style scoped>\n    .dataframe tbody tr th:only-of-type {\n        vertical-align: middle;\n    }\n\n    .dataframe tbody tr th {\n        vertical-align: top;\n    }\n\n    .dataframe thead th {\n        text-align: right;\n    }\n</style>\n<table border=\"1\" class=\"dataframe\">\n  <thead>\n    <tr style=\"text-align: right;\">\n      <th></th>\n      <th>Date</th>\n      <th>Temperature</th>\n      <th>Humidity</th>\n      <th>Wind Speed</th>\n      <th>Pressure</th>\n      <th>Prediction_Temperature</th>\n      <th>Prediction_Humidity</th>\n      <th>Prediction_Pressure</th>\n      <th>Prediction_Wind Speed</th>\n    </tr>\n  </thead>\n  <tbody>\n    <tr>\n      <th>0</th>\n      <td>01-01-2013</td>\n      <td>10.000000</td>\n      <td>84.500000</td>\n      <td>0.000000</td>\n      <td>1015.666667</td>\n      <td>6.000000</td>\n      <td>86.833333</td>\n      <td>1016.500000</td>\n      <td>3.700000</td>\n    </tr>\n    <tr>\n      <th>1</th>\n      <td>02-01-2013</td>\n      <td>7.400000</td>\n      <td>92.000000</td>\n      <td>2.980000</td>\n      <td>1017.800000</td>\n      <td>7.000000</td>\n      <td>82.800000</td>\n      <td>1018.000000</td>\n      <td>1.480000</td>\n    </tr>\n    <tr>\n      <th>2</th>\n      <td>03-01-2013</td>\n      <td>7.166667</td>\n      <td>87.000000</td>\n      <td>4.633333</td>\n      <td>1018.666667</td>\n      <td>7.000000</td>\n      <td>78.600000</td>\n      <td>1020.000000</td>\n      <td>6.300000</td>\n    </tr>\n    <tr>\n      <th>3</th>\n      <td>04-01-2013</td>\n      <td>8.666667</td>\n      <td>71.333333</td>\n      <td>1.233333</td>\n      <td>1017.166667</td>\n      <td>8.857143</td>\n      <td>63.714286</td>\n      <td>1018.714286</td>\n      <td>7.142857</td>\n    </tr>\n    <tr>\n      <th>4</th>\n      <td>05-01-2013</td>\n      <td>6.000000</td>\n      <td>86.833333</td>\n      <td>3.700000</td>\n      <td>1016.500000</td>\n      <td>14.000000</td>\n      <td>51.250000</td>\n      <td>1017.000000</td>\n      <td>12.500000</td>\n    </tr>\n    <tr>\n      <th>...</th>\n      <td>...</td>\n      <td>...</td>\n      <td>...</td>\n      <td>...</td>\n      <td>...</td>\n      <td>...</td>\n      <td>...</td>\n      <td>...</td>\n      <td>...</td>\n    </tr>\n    <tr>\n      <th>1452</th>\n      <td>23-12-2016</td>\n      <td>15.550000</td>\n      <td>74.700000</td>\n      <td>1.205000</td>\n      <td>1014.250000</td>\n      <td>16.850000</td>\n      <td>67.550000</td>\n      <td>1017.200000</td>\n      <td>8.335000</td>\n    </tr>\n    <tr>\n      <th>1453</th>\n      <td>24-12-2016</td>\n      <td>17.318182</td>\n      <td>78.636364</td>\n      <td>5.236364</td>\n      <td>1011.318182</td>\n      <td>17.217391</td>\n      <td>68.043478</td>\n      <td>1015.565217</td>\n      <td>3.547826</td>\n    </tr>\n    <tr>\n      <th>1454</th>\n      <td>25-12-2016</td>\n      <td>14.000000</td>\n      <td>94.300000</td>\n      <td>9.085000</td>\n      <td>1014.350000</td>\n      <td>15.238095</td>\n      <td>87.857143</td>\n      <td>1016.904762</td>\n      <td>6.000000</td>\n    </tr>\n    <tr>\n      <th>1455</th>\n      <td>26-12-2016</td>\n      <td>17.142857</td>\n      <td>74.857143</td>\n      <td>8.784211</td>\n      <td>1016.952381</td>\n      <td>14.095238</td>\n      <td>89.666667</td>\n      <td>1017.904762</td>\n      <td>6.266667</td>\n    </tr>\n    <tr>\n      <th>1456</th>\n      <td>27-12-2016</td>\n      <td>16.850000</td>\n      <td>67.550000</td>\n      <td>8.335000</td>\n      <td>1017.200000</td>\n      <td>15.052632</td>\n      <td>87.000000</td>\n      <td>1016.100000</td>\n      <td>7.325000</td>\n    </tr>\n  </tbody>\n</table>\n<p>1416 rows × 9 columns</p>\n</div>"
     },
     "metadata": {},
     "execution_count": 15
    }
   ],
   "source": [
    "dataFrame_3.drop(dataFrame_3.tail(num).index, inplace=True)\n",
    "dataFrame_3"
   ]
  },
  {
   "cell_type": "code",
   "execution_count": 16,
   "metadata": {},
   "outputs": [],
   "source": [
    "dataFrame_4=dataFrame_3.dropna()"
   ]
  },
  {
   "cell_type": "code",
   "execution_count": 17,
   "metadata": {},
   "outputs": [],
   "source": [
    "# dataFrame_4.to_csv(\"DailyDelhiClimateTrain_4.csv\", index=False)"
   ]
  },
  {
   "cell_type": "code",
   "execution_count": 18,
   "metadata": {},
   "outputs": [],
   "source": [
    "# dataFrame_4=pd.read_csv(\"DailyDelhiClimateTrain_4.csv\")"
   ]
  },
  {
   "cell_type": "code",
   "execution_count": 19,
   "metadata": {},
   "outputs": [
    {
     "output_type": "execute_result",
     "data": {
      "text/plain": [
       "            Date  Temperature   Humidity  Wind Speed     Pressure  \\\n",
       "0     01-01-2013    10.000000  84.500000    0.000000  1015.666667   \n",
       "1     02-01-2013     7.400000  92.000000    2.980000  1017.800000   \n",
       "2     03-01-2013     7.166667  87.000000    4.633333  1018.666667   \n",
       "3     04-01-2013     8.666667  71.333333    1.233333  1017.166667   \n",
       "4     05-01-2013     6.000000  86.833333    3.700000  1016.500000   \n",
       "...          ...          ...        ...         ...          ...   \n",
       "1452  23-12-2016    15.550000  74.700000    1.205000  1014.250000   \n",
       "1453  24-12-2016    17.318182  78.636364    5.236364  1011.318182   \n",
       "1454  25-12-2016    14.000000  94.300000    9.085000  1014.350000   \n",
       "1455  26-12-2016    17.142857  74.857143    8.784211  1016.952381   \n",
       "1456  27-12-2016    16.850000  67.550000    8.335000  1017.200000   \n",
       "\n",
       "      Prediction_Temperature  Prediction_Humidity  Prediction_Pressure  \\\n",
       "0                   6.000000            86.833333          1016.500000   \n",
       "1                   7.000000            82.800000          1018.000000   \n",
       "2                   7.000000            78.600000          1020.000000   \n",
       "3                   8.857143            63.714286          1018.714286   \n",
       "4                  14.000000            51.250000          1017.000000   \n",
       "...                      ...                  ...                  ...   \n",
       "1452               16.850000            67.550000          1017.200000   \n",
       "1453               17.217391            68.043478          1015.565217   \n",
       "1454               15.238095            87.857143          1016.904762   \n",
       "1455               14.095238            89.666667          1017.904762   \n",
       "1456               15.052632            87.000000          1016.100000   \n",
       "\n",
       "      Prediction_Wind Speed  \n",
       "0                  3.700000  \n",
       "1                  1.480000  \n",
       "2                  6.300000  \n",
       "3                  7.142857  \n",
       "4                 12.500000  \n",
       "...                     ...  \n",
       "1452               8.335000  \n",
       "1453               3.547826  \n",
       "1454               6.000000  \n",
       "1455               6.266667  \n",
       "1456               7.325000  \n",
       "\n",
       "[1416 rows x 9 columns]"
      ],
      "text/html": "<div>\n<style scoped>\n    .dataframe tbody tr th:only-of-type {\n        vertical-align: middle;\n    }\n\n    .dataframe tbody tr th {\n        vertical-align: top;\n    }\n\n    .dataframe thead th {\n        text-align: right;\n    }\n</style>\n<table border=\"1\" class=\"dataframe\">\n  <thead>\n    <tr style=\"text-align: right;\">\n      <th></th>\n      <th>Date</th>\n      <th>Temperature</th>\n      <th>Humidity</th>\n      <th>Wind Speed</th>\n      <th>Pressure</th>\n      <th>Prediction_Temperature</th>\n      <th>Prediction_Humidity</th>\n      <th>Prediction_Pressure</th>\n      <th>Prediction_Wind Speed</th>\n    </tr>\n  </thead>\n  <tbody>\n    <tr>\n      <th>0</th>\n      <td>01-01-2013</td>\n      <td>10.000000</td>\n      <td>84.500000</td>\n      <td>0.000000</td>\n      <td>1015.666667</td>\n      <td>6.000000</td>\n      <td>86.833333</td>\n      <td>1016.500000</td>\n      <td>3.700000</td>\n    </tr>\n    <tr>\n      <th>1</th>\n      <td>02-01-2013</td>\n      <td>7.400000</td>\n      <td>92.000000</td>\n      <td>2.980000</td>\n      <td>1017.800000</td>\n      <td>7.000000</td>\n      <td>82.800000</td>\n      <td>1018.000000</td>\n      <td>1.480000</td>\n    </tr>\n    <tr>\n      <th>2</th>\n      <td>03-01-2013</td>\n      <td>7.166667</td>\n      <td>87.000000</td>\n      <td>4.633333</td>\n      <td>1018.666667</td>\n      <td>7.000000</td>\n      <td>78.600000</td>\n      <td>1020.000000</td>\n      <td>6.300000</td>\n    </tr>\n    <tr>\n      <th>3</th>\n      <td>04-01-2013</td>\n      <td>8.666667</td>\n      <td>71.333333</td>\n      <td>1.233333</td>\n      <td>1017.166667</td>\n      <td>8.857143</td>\n      <td>63.714286</td>\n      <td>1018.714286</td>\n      <td>7.142857</td>\n    </tr>\n    <tr>\n      <th>4</th>\n      <td>05-01-2013</td>\n      <td>6.000000</td>\n      <td>86.833333</td>\n      <td>3.700000</td>\n      <td>1016.500000</td>\n      <td>14.000000</td>\n      <td>51.250000</td>\n      <td>1017.000000</td>\n      <td>12.500000</td>\n    </tr>\n    <tr>\n      <th>...</th>\n      <td>...</td>\n      <td>...</td>\n      <td>...</td>\n      <td>...</td>\n      <td>...</td>\n      <td>...</td>\n      <td>...</td>\n      <td>...</td>\n      <td>...</td>\n    </tr>\n    <tr>\n      <th>1452</th>\n      <td>23-12-2016</td>\n      <td>15.550000</td>\n      <td>74.700000</td>\n      <td>1.205000</td>\n      <td>1014.250000</td>\n      <td>16.850000</td>\n      <td>67.550000</td>\n      <td>1017.200000</td>\n      <td>8.335000</td>\n    </tr>\n    <tr>\n      <th>1453</th>\n      <td>24-12-2016</td>\n      <td>17.318182</td>\n      <td>78.636364</td>\n      <td>5.236364</td>\n      <td>1011.318182</td>\n      <td>17.217391</td>\n      <td>68.043478</td>\n      <td>1015.565217</td>\n      <td>3.547826</td>\n    </tr>\n    <tr>\n      <th>1454</th>\n      <td>25-12-2016</td>\n      <td>14.000000</td>\n      <td>94.300000</td>\n      <td>9.085000</td>\n      <td>1014.350000</td>\n      <td>15.238095</td>\n      <td>87.857143</td>\n      <td>1016.904762</td>\n      <td>6.000000</td>\n    </tr>\n    <tr>\n      <th>1455</th>\n      <td>26-12-2016</td>\n      <td>17.142857</td>\n      <td>74.857143</td>\n      <td>8.784211</td>\n      <td>1016.952381</td>\n      <td>14.095238</td>\n      <td>89.666667</td>\n      <td>1017.904762</td>\n      <td>6.266667</td>\n    </tr>\n    <tr>\n      <th>1456</th>\n      <td>27-12-2016</td>\n      <td>16.850000</td>\n      <td>67.550000</td>\n      <td>8.335000</td>\n      <td>1017.200000</td>\n      <td>15.052632</td>\n      <td>87.000000</td>\n      <td>1016.100000</td>\n      <td>7.325000</td>\n    </tr>\n  </tbody>\n</table>\n<p>1416 rows × 9 columns</p>\n</div>"
     },
     "metadata": {},
     "execution_count": 19
    }
   ],
   "source": [
    "dataFrame_4"
   ]
  },
  {
   "cell_type": "code",
   "execution_count": 102,
   "metadata": {},
   "outputs": [
    {
     "output_type": "execute_result",
     "data": {
      "text/plain": [
       "LinearRegression()"
      ]
     },
     "metadata": {},
     "execution_count": 102
    }
   ],
   "source": [
    "# model = LinearRegression()\n",
    "# model"
   ]
  },
  {
   "cell_type": "code",
   "execution_count": 103,
   "metadata": {},
   "outputs": [],
   "source": [
    "# x = dataFrame_4[[\"Temperature\"]]\n",
    "# y = dataFrame_4[[\"Prediction_Temperature\"]]\n",
    "# # print(x, y)"
   ]
  },
  {
   "cell_type": "code",
   "execution_count": 104,
   "metadata": {},
   "outputs": [
    {
     "output_type": "execute_result",
     "data": {
      "text/plain": [
       "LinearRegression()"
      ]
     },
     "metadata": {},
     "execution_count": 104
    }
   ],
   "source": [
    "# model.fit(x,y)"
   ]
  },
  {
   "cell_type": "code",
   "execution_count": 105,
   "metadata": {},
   "outputs": [
    {
     "output_type": "stream",
     "name": "stdout",
     "text": [
      "Intercept =  [0.69720268] \nCoef =  [[0.97273164]]\n"
     ]
    }
   ],
   "source": [
    "# print(\"Intercept = \", model.intercept_, \"\\nCoef = \", model.coef_)"
   ]
  },
  {
   "cell_type": "code",
   "execution_count": 106,
   "metadata": {},
   "outputs": [
    {
     "output_type": "execute_result",
     "data": {
      "text/plain": [
       "array([[10.42451909],\n",
       "       [ 7.89541682],\n",
       "       [ 7.6684461 ],\n",
       "       ...,\n",
       "       [17.44510397],\n",
       "       [15.51978007],\n",
       "       [14.40808677]])"
      ]
     },
     "metadata": {},
     "execution_count": 106
    }
   ],
   "source": [
    "# actualTempPred = model.predict(dataFrame_4[[\"Temperature\"]])\n",
    "# actualTempPred"
   ]
  },
  {
   "cell_type": "code",
   "execution_count": 107,
   "metadata": {},
   "outputs": [
    {
     "output_type": "execute_result",
     "data": {
      "text/plain": [
       "0.9471765037410373"
      ]
     },
     "metadata": {},
     "execution_count": 107
    }
   ],
   "source": [
    "# model.score(dataFrame_4[[\"Prediction_Temperature\"]], model.predict(dataFrame_4[[\"Temperature\"]]))"
   ]
  },
  {
   "cell_type": "code",
   "execution_count": 108,
   "metadata": {},
   "outputs": [
    {
     "output_type": "execute_result",
     "data": {
      "text/plain": [
       "            Date  Temperature   Humidity  Wind Speed     Pressure  \\\n",
       "0     01-01-2013    10.000000  84.500000    0.000000  1015.666667   \n",
       "1     02-01-2013     7.400000  92.000000    2.980000  1017.800000   \n",
       "2     03-01-2013     7.166667  87.000000    4.633333  1018.666667   \n",
       "3     04-01-2013     8.666667  71.333333    1.233333  1017.166667   \n",
       "4     05-01-2013     6.000000  86.833333    3.700000  1016.500000   \n",
       "...          ...          ...        ...         ...          ...   \n",
       "1414  26-12-2016    17.142857  74.857143    8.784211  1016.952381   \n",
       "1415  27-12-2016    16.850000  67.550000    8.335000  1017.200000   \n",
       "1416  28-12-2016    17.217391  68.043478    3.547826  1015.565217   \n",
       "1417  29-12-2016    15.238095  87.857143    6.000000  1016.904762   \n",
       "1418  30-12-2016    14.095238  89.666667    6.266667  1017.904762   \n",
       "\n",
       "      Prediction_Temperature  Prediction_Humidity  Prediction_Pressure  \\\n",
       "0                   7.400000            92.000000          1017.800000   \n",
       "1                   7.166667            87.000000          1018.666667   \n",
       "2                   8.666667            71.333333          1017.166667   \n",
       "3                   6.000000            86.833333          1016.500000   \n",
       "4                   7.000000            82.800000          1018.000000   \n",
       "...                      ...                  ...                  ...   \n",
       "1414               16.850000            67.550000          1017.200000   \n",
       "1415               17.217391            68.043478          1015.565217   \n",
       "1416               15.238095            87.857143          1016.904762   \n",
       "1417               14.095238            89.666667          1017.904762   \n",
       "1418               15.052632            87.000000          1016.100000   \n",
       "\n",
       "      Prediction_Wind Speed  ActualTempPred  \n",
       "0                  2.980000       10.424519  \n",
       "1                  4.633333        7.895417  \n",
       "2                  1.233333        7.668446  \n",
       "3                  3.700000        9.127544  \n",
       "4                  1.480000        6.533593  \n",
       "...                     ...             ...  \n",
       "1414               8.335000       17.372602  \n",
       "1415               3.547826       17.087731  \n",
       "1416               6.000000       17.445104  \n",
       "1417               6.266667       15.519780  \n",
       "1418               7.325000       14.408087  \n",
       "\n",
       "[1419 rows x 10 columns]"
      ],
      "text/html": "<div>\n<style scoped>\n    .dataframe tbody tr th:only-of-type {\n        vertical-align: middle;\n    }\n\n    .dataframe tbody tr th {\n        vertical-align: top;\n    }\n\n    .dataframe thead th {\n        text-align: right;\n    }\n</style>\n<table border=\"1\" class=\"dataframe\">\n  <thead>\n    <tr style=\"text-align: right;\">\n      <th></th>\n      <th>Date</th>\n      <th>Temperature</th>\n      <th>Humidity</th>\n      <th>Wind Speed</th>\n      <th>Pressure</th>\n      <th>Prediction_Temperature</th>\n      <th>Prediction_Humidity</th>\n      <th>Prediction_Pressure</th>\n      <th>Prediction_Wind Speed</th>\n      <th>ActualTempPred</th>\n    </tr>\n  </thead>\n  <tbody>\n    <tr>\n      <th>0</th>\n      <td>01-01-2013</td>\n      <td>10.000000</td>\n      <td>84.500000</td>\n      <td>0.000000</td>\n      <td>1015.666667</td>\n      <td>7.400000</td>\n      <td>92.000000</td>\n      <td>1017.800000</td>\n      <td>2.980000</td>\n      <td>10.424519</td>\n    </tr>\n    <tr>\n      <th>1</th>\n      <td>02-01-2013</td>\n      <td>7.400000</td>\n      <td>92.000000</td>\n      <td>2.980000</td>\n      <td>1017.800000</td>\n      <td>7.166667</td>\n      <td>87.000000</td>\n      <td>1018.666667</td>\n      <td>4.633333</td>\n      <td>7.895417</td>\n    </tr>\n    <tr>\n      <th>2</th>\n      <td>03-01-2013</td>\n      <td>7.166667</td>\n      <td>87.000000</td>\n      <td>4.633333</td>\n      <td>1018.666667</td>\n      <td>8.666667</td>\n      <td>71.333333</td>\n      <td>1017.166667</td>\n      <td>1.233333</td>\n      <td>7.668446</td>\n    </tr>\n    <tr>\n      <th>3</th>\n      <td>04-01-2013</td>\n      <td>8.666667</td>\n      <td>71.333333</td>\n      <td>1.233333</td>\n      <td>1017.166667</td>\n      <td>6.000000</td>\n      <td>86.833333</td>\n      <td>1016.500000</td>\n      <td>3.700000</td>\n      <td>9.127544</td>\n    </tr>\n    <tr>\n      <th>4</th>\n      <td>05-01-2013</td>\n      <td>6.000000</td>\n      <td>86.833333</td>\n      <td>3.700000</td>\n      <td>1016.500000</td>\n      <td>7.000000</td>\n      <td>82.800000</td>\n      <td>1018.000000</td>\n      <td>1.480000</td>\n      <td>6.533593</td>\n    </tr>\n    <tr>\n      <th>...</th>\n      <td>...</td>\n      <td>...</td>\n      <td>...</td>\n      <td>...</td>\n      <td>...</td>\n      <td>...</td>\n      <td>...</td>\n      <td>...</td>\n      <td>...</td>\n      <td>...</td>\n    </tr>\n    <tr>\n      <th>1414</th>\n      <td>26-12-2016</td>\n      <td>17.142857</td>\n      <td>74.857143</td>\n      <td>8.784211</td>\n      <td>1016.952381</td>\n      <td>16.850000</td>\n      <td>67.550000</td>\n      <td>1017.200000</td>\n      <td>8.335000</td>\n      <td>17.372602</td>\n    </tr>\n    <tr>\n      <th>1415</th>\n      <td>27-12-2016</td>\n      <td>16.850000</td>\n      <td>67.550000</td>\n      <td>8.335000</td>\n      <td>1017.200000</td>\n      <td>17.217391</td>\n      <td>68.043478</td>\n      <td>1015.565217</td>\n      <td>3.547826</td>\n      <td>17.087731</td>\n    </tr>\n    <tr>\n      <th>1416</th>\n      <td>28-12-2016</td>\n      <td>17.217391</td>\n      <td>68.043478</td>\n      <td>3.547826</td>\n      <td>1015.565217</td>\n      <td>15.238095</td>\n      <td>87.857143</td>\n      <td>1016.904762</td>\n      <td>6.000000</td>\n      <td>17.445104</td>\n    </tr>\n    <tr>\n      <th>1417</th>\n      <td>29-12-2016</td>\n      <td>15.238095</td>\n      <td>87.857143</td>\n      <td>6.000000</td>\n      <td>1016.904762</td>\n      <td>14.095238</td>\n      <td>89.666667</td>\n      <td>1017.904762</td>\n      <td>6.266667</td>\n      <td>15.519780</td>\n    </tr>\n    <tr>\n      <th>1418</th>\n      <td>30-12-2016</td>\n      <td>14.095238</td>\n      <td>89.666667</td>\n      <td>6.266667</td>\n      <td>1017.904762</td>\n      <td>15.052632</td>\n      <td>87.000000</td>\n      <td>1016.100000</td>\n      <td>7.325000</td>\n      <td>14.408087</td>\n    </tr>\n  </tbody>\n</table>\n<p>1419 rows × 10 columns</p>\n</div>"
     },
     "metadata": {},
     "execution_count": 108
    }
   ],
   "source": [
    "# dataFrame_4[\"ActualTempPred\"] = actualTempPred\n",
    "# dataFrame_4"
   ]
  },
  {
   "source": [
    "# MAKE NEW"
   ],
   "cell_type": "markdown",
   "metadata": {}
  },
  {
   "cell_type": "code",
   "execution_count": 109,
   "metadata": {},
   "outputs": [],
   "source": [
    "# variable_X = [\"Temperature\", \"Humidity\", \"Wind Speed\", \"Pressure\"]\n",
    "# dataFrame_4[variable_X[0]]"
   ]
  },
  {
   "cell_type": "code",
   "execution_count": null,
   "metadata": {},
   "outputs": [],
   "source": []
  },
  {
   "cell_type": "code",
   "execution_count": null,
   "metadata": {},
   "outputs": [],
   "source": []
  },
  {
   "cell_type": "code",
   "execution_count": 24,
   "metadata": {
    "tags": []
   },
   "outputs": [],
   "source": [
    "model = LinearRegression()\n",
    "# model\n",
    "variable_X = [\"Temperature\", \"Humidity\", \"Wind Speed\", \"Pressure\"]\n",
    "variable_Y = [\"Prediction_Temperature\", \"Prediction_Humidity\", \"Prediction_Wind Speed\", \"Prediction_Pressure\"]\n",
    "loopNum = 0\n",
    "# print(len(variable_X))\n",
    "\n",
    "while(loopNum < len(variable_X)):\n",
    "    x = dataFrame_4[[variable_X[loopNum]]]\n",
    "    y = dataFrame_4[[variable_Y[loopNum]]]\n",
    "    # print(\"Getting-> \", variable_X[loopNum],\"\\n\", x, \"\\n\",\"Getting-> \", variable_X[loopNum],\"\\n\", y)\n",
    "    \n",
    "    model.fit(x,y)\n",
    "    # print(\"\\n\",variable_X[loopNum])\n",
    "    # print(\"Intercept = \", model.intercept_, \"\\nCoef = \", model.coef_)\n",
    "    # print(\"Score = \", model.score(y, model.predict(x)))\n",
    "\n",
    "    actualTempPred = model.predict(x)\n",
    "    # print(actualTempPred)\n",
    "\n",
    "    dataFrame_4[\"ActualPred_\" + variable_X[loopNum]] = actualTempPred\n",
    "    # print(dataFrame_4)\n",
    "    # dataFrame_4[\"ABCDEFG\" + variable_X[loopNum]] = 999999\n",
    "    # print(dataFrame_4)\n",
    "\n",
    "\n",
    "    loopNum+=1\n",
    "\n",
    "# print(\"\\n\\nHello\\n\")\n",
    "\n",
    "dataFrame_4.to_csv(\"ActualVarPredition.csv\",index=False)\n",
    "\n",
    "# model.fit(x,y)\n",
    "\n",
    "# print(\"Intercept = \", model.intercept_, \"\\nCoef = \", model.coef_)\n",
    "# print(\"Score = \", model.score(dataFrame_4[[\"Prediction_Temperature\"]], model.predict(dataFrame_4[[\"Temperature\"]])))\n",
    "\n",
    "# actualTempPred = model.predict(dataFrame_4[[\"Temperature\"]])\n",
    "# # actualTempPred\n",
    "\n",
    "\n",
    "# dataFrame_4[\"ActualTempPred\"] = actualTempPred\n",
    "# dataFrame_4\n",
    "\n"
   ]
  },
  {
   "cell_type": "code",
   "execution_count": null,
   "metadata": {},
   "outputs": [],
   "source": []
  },
  {
   "cell_type": "code",
   "execution_count": 149,
   "metadata": {},
   "outputs": [],
   "source": [
    "# def Lr_Model(x_train, x_test, y_train, y_test):\n",
    "#     T_Model = LinearRegression()\n",
    "#     # variablePredictions = T_Model.predict(dataFrame_4[\"Temperature\"])\n",
    "#     # print(\"\\n\\n\\t\", variablePredictions, \"\\nDone\\n\")\n",
    "#     return T_Model.fit(x_train, y_train), T_Model.intercept_, T_Model.coef_, T_Model.score(y_test, T_Model.predict(x_test))"
   ]
  },
  {
   "cell_type": "code",
   "execution_count": 150,
   "metadata": {},
   "outputs": [],
   "source": [
    "# def PrintAll(arr):\n",
    "#     for i in range(0,4):\n",
    "#         print(arrVariables[loopNum] + Model_Attributes[i], \"-> \", arr[i])"
   ]
  },
  {
   "cell_type": "code",
   "execution_count": 151,
   "metadata": {},
   "outputs": [],
   "source": [
    "# # Model_Attributes = [\"Model\", \"Predict\", \"Model_Intercept\", \"Model_Coefficient\", \"_r_sq\"]\n",
    "# Model_Attributes = [\"Model\", \"Model_Intercept\", \"Model_Coefficient\", \"_r_sq\"]\n",
    "# Model_Length = len(Model_Attributes)"
   ]
  },
  {
   "cell_type": "code",
   "execution_count": 152,
   "metadata": {},
   "outputs": [
    {
     "output_type": "stream",
     "name": "stdout",
     "text": [
      "\n\nTemperatureModel ->  LinearRegression()\nTemperatureModel_Intercept ->  [1.64852335]\nTemperatureModel_Coefficient ->  [[0.93342878]]\nTemperature_r_sq ->  0.8776719997487482\n\n\nHumidityModel ->  LinearRegression()\nHumidityModel_Intercept ->  [19.10868559]\nHumidityModel_Coefficient ->  [[0.68491542]]\nHumidity_r_sq ->  0.3486850584123946\n\n\nWind SpeedModel ->  LinearRegression()\nWind SpeedModel_Intercept ->  [4.86471207]\nWind SpeedModel_Coefficient ->  [[0.2527414]]\nWind Speed_r_sq ->  -0.5221647198625385\n\n\nPressureModel ->  LinearRegression()\nPressureModel_Intercept ->  [91.00093725]\nPressureModel_Coefficient ->  [[0.9097148]]\nPressure_r_sq ->  0.837049225767841\n"
     ]
    }
   ],
   "source": [
    "# #Create a variable for attribute name\n",
    "# # Attribute_Name = input(print(\"Enter the Attribute Name :\"))\n",
    "\n",
    "# # Loop through all variable \n",
    "# arrVariables = [\"Temperature\", \"Humidity\", \"Wind Speed\", \"Pressure\"]\n",
    "# loopNum = 0\n",
    "# while(loopNum < 4):\n",
    "#     arr = \"\"\n",
    "#     # for i in range(0,Model_Length):\n",
    "#     #     arr = (arr + \", \" + arrVariables[loopNum] + Model_Attributes[i])\n",
    "#     # print(arr)\n",
    "#     print(\"\\n\")\n",
    "#     x_train, x_test, y_train, y_test = train_test_split(dataFrame_4[[arrVariables[loopNum]]], dataFrame_4[[\"Prediction_\" + arrVariables[loopNum]]], test_size=0.3)\n",
    "#     arr = Lr_Model(x_train, x_test, y_train, y_test)\n",
    "#     PrintAll(arr)\n",
    "    \n",
    "#     # df.to_csv(\"LR_Pred_New_Data.csv\",index=False)\n",
    "    \n",
    "    \n",
    "#     # print(\"\\n\")\n",
    "    \n",
    "#     loopNum+=1\n"
   ]
  },
  {
   "cell_type": "code",
   "execution_count": 153,
   "metadata": {},
   "outputs": [],
   "source": [
    "# while(loopNum < 4):\n",
    "#     x_train, x_test, y_train, y_test = train_test_split(dataFrame_4[[Attribute_Name]], dataFrame_4[[\"Prediction_\" + Attribute_Name]], test_size=0.3)\n",
    "#     arr = Lr_Model(x_train, x_test, y_train, y_test)\n",
    "#     PrintAll(arr)\n"
   ]
  },
  {
   "cell_type": "code",
   "execution_count": null,
   "metadata": {},
   "outputs": [],
   "source": []
  },
  {
   "cell_type": "code",
   "execution_count": 154,
   "metadata": {},
   "outputs": [],
   "source": [
    "# x_train, x_test, y_train, y_test = train_test_split(dataFrame_4[[Attribute_Name]], dataFrame_4[[\"Prediction_\" + Attribute_Name]], test_size=0.3)"
   ]
  },
  {
   "cell_type": "code",
   "execution_count": 155,
   "metadata": {},
   "outputs": [],
   "source": [
    "# arr = Lr_Model(x_train, x_test, y_train, y_test)\n",
    "# PrintAll(arr)"
   ]
  },
  {
   "source": [
    "### LR Completed"
   ],
   "cell_type": "markdown",
   "metadata": {}
  },
  {
   "cell_type": "code",
   "execution_count": 25,
   "metadata": {},
   "outputs": [
    {
     "output_type": "execute_result",
     "data": {
      "text/plain": [
       "            Date  Temperature   Humidity  Wind Speed     Pressure  \\\n",
       "0     01-01-2013    10.000000  84.500000    0.000000  1015.666667   \n",
       "1     02-01-2013     7.400000  92.000000    2.980000  1017.800000   \n",
       "2     03-01-2013     7.166667  87.000000    4.633333  1018.666667   \n",
       "3     04-01-2013     8.666667  71.333333    1.233333  1017.166667   \n",
       "4     05-01-2013     6.000000  86.833333    3.700000  1016.500000   \n",
       "...          ...          ...        ...         ...          ...   \n",
       "1411  23-12-2016    15.550000  74.700000    1.205000  1014.250000   \n",
       "1412  24-12-2016    17.318182  78.636364    5.236364  1011.318182   \n",
       "1413  25-12-2016    14.000000  94.300000    9.085000  1014.350000   \n",
       "1414  26-12-2016    17.142857  74.857143    8.784211  1016.952381   \n",
       "1415  27-12-2016    16.850000  67.550000    8.335000  1017.200000   \n",
       "\n",
       "      Prediction_Temperature  Prediction_Humidity  Prediction_Pressure  \\\n",
       "0                   6.000000            86.833333          1016.500000   \n",
       "1                   7.000000            82.800000          1018.000000   \n",
       "2                   7.000000            78.600000          1020.000000   \n",
       "3                   8.857143            63.714286          1018.714286   \n",
       "4                  14.000000            51.250000          1017.000000   \n",
       "...                      ...                  ...                  ...   \n",
       "1411               16.850000            67.550000          1017.200000   \n",
       "1412               17.217391            68.043478          1015.565217   \n",
       "1413               15.238095            87.857143          1016.904762   \n",
       "1414               14.095238            89.666667          1017.904762   \n",
       "1415               15.052632            87.000000          1016.100000   \n",
       "\n",
       "      Prediction_Wind Speed  ActualPred_Temperature  ActualPred_Humidity  \\\n",
       "0                  3.700000               11.104700            77.109865   \n",
       "1                  1.480000                8.687131            82.259686   \n",
       "2                  6.300000                8.470169            78.826472   \n",
       "3                  7.142857                9.864921            68.069068   \n",
       "4                 12.500000                7.385363            78.712031   \n",
       "...                     ...                     ...                  ...   \n",
       "1411               8.335000               16.265281            70.380766   \n",
       "1412               3.547826               17.909397            73.083641   \n",
       "1413               6.000000               14.824038            83.838964   \n",
       "1414               6.266667               17.746374            70.488667   \n",
       "1415               7.325000               17.474065            65.471270   \n",
       "\n",
       "      ActualPred_Wind Speed  ActualPred_Pressure  \n",
       "0                  4.893047          1015.074926  \n",
       "1                  5.619899          1017.037815  \n",
       "2                  6.023164          1017.835238  \n",
       "3                  5.193870          1016.455082  \n",
       "4                  5.795515          1015.841679  \n",
       "...                     ...                  ...  \n",
       "1411               5.186959          1013.771445  \n",
       "1412               6.170249          1011.073867  \n",
       "1413               7.108971          1013.863455  \n",
       "1414               7.035605          1016.257917  \n",
       "1415               6.926038          1016.485752  \n",
       "\n",
       "[1416 rows x 13 columns]"
      ],
      "text/html": "<div>\n<style scoped>\n    .dataframe tbody tr th:only-of-type {\n        vertical-align: middle;\n    }\n\n    .dataframe tbody tr th {\n        vertical-align: top;\n    }\n\n    .dataframe thead th {\n        text-align: right;\n    }\n</style>\n<table border=\"1\" class=\"dataframe\">\n  <thead>\n    <tr style=\"text-align: right;\">\n      <th></th>\n      <th>Date</th>\n      <th>Temperature</th>\n      <th>Humidity</th>\n      <th>Wind Speed</th>\n      <th>Pressure</th>\n      <th>Prediction_Temperature</th>\n      <th>Prediction_Humidity</th>\n      <th>Prediction_Pressure</th>\n      <th>Prediction_Wind Speed</th>\n      <th>ActualPred_Temperature</th>\n      <th>ActualPred_Humidity</th>\n      <th>ActualPred_Wind Speed</th>\n      <th>ActualPred_Pressure</th>\n    </tr>\n  </thead>\n  <tbody>\n    <tr>\n      <th>0</th>\n      <td>01-01-2013</td>\n      <td>10.000000</td>\n      <td>84.500000</td>\n      <td>0.000000</td>\n      <td>1015.666667</td>\n      <td>6.000000</td>\n      <td>86.833333</td>\n      <td>1016.500000</td>\n      <td>3.700000</td>\n      <td>11.104700</td>\n      <td>77.109865</td>\n      <td>4.893047</td>\n      <td>1015.074926</td>\n    </tr>\n    <tr>\n      <th>1</th>\n      <td>02-01-2013</td>\n      <td>7.400000</td>\n      <td>92.000000</td>\n      <td>2.980000</td>\n      <td>1017.800000</td>\n      <td>7.000000</td>\n      <td>82.800000</td>\n      <td>1018.000000</td>\n      <td>1.480000</td>\n      <td>8.687131</td>\n      <td>82.259686</td>\n      <td>5.619899</td>\n      <td>1017.037815</td>\n    </tr>\n    <tr>\n      <th>2</th>\n      <td>03-01-2013</td>\n      <td>7.166667</td>\n      <td>87.000000</td>\n      <td>4.633333</td>\n      <td>1018.666667</td>\n      <td>7.000000</td>\n      <td>78.600000</td>\n      <td>1020.000000</td>\n      <td>6.300000</td>\n      <td>8.470169</td>\n      <td>78.826472</td>\n      <td>6.023164</td>\n      <td>1017.835238</td>\n    </tr>\n    <tr>\n      <th>3</th>\n      <td>04-01-2013</td>\n      <td>8.666667</td>\n      <td>71.333333</td>\n      <td>1.233333</td>\n      <td>1017.166667</td>\n      <td>8.857143</td>\n      <td>63.714286</td>\n      <td>1018.714286</td>\n      <td>7.142857</td>\n      <td>9.864921</td>\n      <td>68.069068</td>\n      <td>5.193870</td>\n      <td>1016.455082</td>\n    </tr>\n    <tr>\n      <th>4</th>\n      <td>05-01-2013</td>\n      <td>6.000000</td>\n      <td>86.833333</td>\n      <td>3.700000</td>\n      <td>1016.500000</td>\n      <td>14.000000</td>\n      <td>51.250000</td>\n      <td>1017.000000</td>\n      <td>12.500000</td>\n      <td>7.385363</td>\n      <td>78.712031</td>\n      <td>5.795515</td>\n      <td>1015.841679</td>\n    </tr>\n    <tr>\n      <th>...</th>\n      <td>...</td>\n      <td>...</td>\n      <td>...</td>\n      <td>...</td>\n      <td>...</td>\n      <td>...</td>\n      <td>...</td>\n      <td>...</td>\n      <td>...</td>\n      <td>...</td>\n      <td>...</td>\n      <td>...</td>\n      <td>...</td>\n    </tr>\n    <tr>\n      <th>1411</th>\n      <td>23-12-2016</td>\n      <td>15.550000</td>\n      <td>74.700000</td>\n      <td>1.205000</td>\n      <td>1014.250000</td>\n      <td>16.850000</td>\n      <td>67.550000</td>\n      <td>1017.200000</td>\n      <td>8.335000</td>\n      <td>16.265281</td>\n      <td>70.380766</td>\n      <td>5.186959</td>\n      <td>1013.771445</td>\n    </tr>\n    <tr>\n      <th>1412</th>\n      <td>24-12-2016</td>\n      <td>17.318182</td>\n      <td>78.636364</td>\n      <td>5.236364</td>\n      <td>1011.318182</td>\n      <td>17.217391</td>\n      <td>68.043478</td>\n      <td>1015.565217</td>\n      <td>3.547826</td>\n      <td>17.909397</td>\n      <td>73.083641</td>\n      <td>6.170249</td>\n      <td>1011.073867</td>\n    </tr>\n    <tr>\n      <th>1413</th>\n      <td>25-12-2016</td>\n      <td>14.000000</td>\n      <td>94.300000</td>\n      <td>9.085000</td>\n      <td>1014.350000</td>\n      <td>15.238095</td>\n      <td>87.857143</td>\n      <td>1016.904762</td>\n      <td>6.000000</td>\n      <td>14.824038</td>\n      <td>83.838964</td>\n      <td>7.108971</td>\n      <td>1013.863455</td>\n    </tr>\n    <tr>\n      <th>1414</th>\n      <td>26-12-2016</td>\n      <td>17.142857</td>\n      <td>74.857143</td>\n      <td>8.784211</td>\n      <td>1016.952381</td>\n      <td>14.095238</td>\n      <td>89.666667</td>\n      <td>1017.904762</td>\n      <td>6.266667</td>\n      <td>17.746374</td>\n      <td>70.488667</td>\n      <td>7.035605</td>\n      <td>1016.257917</td>\n    </tr>\n    <tr>\n      <th>1415</th>\n      <td>27-12-2016</td>\n      <td>16.850000</td>\n      <td>67.550000</td>\n      <td>8.335000</td>\n      <td>1017.200000</td>\n      <td>15.052632</td>\n      <td>87.000000</td>\n      <td>1016.100000</td>\n      <td>7.325000</td>\n      <td>17.474065</td>\n      <td>65.471270</td>\n      <td>6.926038</td>\n      <td>1016.485752</td>\n    </tr>\n  </tbody>\n</table>\n<p>1416 rows × 13 columns</p>\n</div>"
     },
     "metadata": {},
     "execution_count": 25
    }
   ],
   "source": [
    "dataFrame_5 = pd.read_csv(\"ActualVarPredition.csv\")\n",
    "dataFrame_5"
   ]
  },
  {
   "cell_type": "code",
   "execution_count": 26,
   "metadata": {},
   "outputs": [
    {
     "output_type": "execute_result",
     "data": {
      "text/plain": [
       "      ActualPred_Temperature  ActualPred_Humidity  ActualPred_Wind Speed  \\\n",
       "0                  11.104700            77.109865               4.893047   \n",
       "1                   8.687131            82.259686               5.619899   \n",
       "2                   8.470169            78.826472               6.023164   \n",
       "3                   9.864921            68.069068               5.193870   \n",
       "4                   7.385363            78.712031               5.795515   \n",
       "...                      ...                  ...                    ...   \n",
       "1411               16.265281            70.380766               5.186959   \n",
       "1412               17.909397            73.083641               6.170249   \n",
       "1413               14.824038            83.838964               7.108971   \n",
       "1414               17.746374            70.488667               7.035605   \n",
       "1415               17.474065            65.471270               6.926038   \n",
       "\n",
       "      ActualPred_Pressure  \n",
       "0             1015.074926  \n",
       "1             1017.037815  \n",
       "2             1017.835238  \n",
       "3             1016.455082  \n",
       "4             1015.841679  \n",
       "...                   ...  \n",
       "1411          1013.771445  \n",
       "1412          1011.073867  \n",
       "1413          1013.863455  \n",
       "1414          1016.257917  \n",
       "1415          1016.485752  \n",
       "\n",
       "[1416 rows x 4 columns]"
      ],
      "text/html": "<div>\n<style scoped>\n    .dataframe tbody tr th:only-of-type {\n        vertical-align: middle;\n    }\n\n    .dataframe tbody tr th {\n        vertical-align: top;\n    }\n\n    .dataframe thead th {\n        text-align: right;\n    }\n</style>\n<table border=\"1\" class=\"dataframe\">\n  <thead>\n    <tr style=\"text-align: right;\">\n      <th></th>\n      <th>ActualPred_Temperature</th>\n      <th>ActualPred_Humidity</th>\n      <th>ActualPred_Wind Speed</th>\n      <th>ActualPred_Pressure</th>\n    </tr>\n  </thead>\n  <tbody>\n    <tr>\n      <th>0</th>\n      <td>11.104700</td>\n      <td>77.109865</td>\n      <td>4.893047</td>\n      <td>1015.074926</td>\n    </tr>\n    <tr>\n      <th>1</th>\n      <td>8.687131</td>\n      <td>82.259686</td>\n      <td>5.619899</td>\n      <td>1017.037815</td>\n    </tr>\n    <tr>\n      <th>2</th>\n      <td>8.470169</td>\n      <td>78.826472</td>\n      <td>6.023164</td>\n      <td>1017.835238</td>\n    </tr>\n    <tr>\n      <th>3</th>\n      <td>9.864921</td>\n      <td>68.069068</td>\n      <td>5.193870</td>\n      <td>1016.455082</td>\n    </tr>\n    <tr>\n      <th>4</th>\n      <td>7.385363</td>\n      <td>78.712031</td>\n      <td>5.795515</td>\n      <td>1015.841679</td>\n    </tr>\n    <tr>\n      <th>...</th>\n      <td>...</td>\n      <td>...</td>\n      <td>...</td>\n      <td>...</td>\n    </tr>\n    <tr>\n      <th>1411</th>\n      <td>16.265281</td>\n      <td>70.380766</td>\n      <td>5.186959</td>\n      <td>1013.771445</td>\n    </tr>\n    <tr>\n      <th>1412</th>\n      <td>17.909397</td>\n      <td>73.083641</td>\n      <td>6.170249</td>\n      <td>1011.073867</td>\n    </tr>\n    <tr>\n      <th>1413</th>\n      <td>14.824038</td>\n      <td>83.838964</td>\n      <td>7.108971</td>\n      <td>1013.863455</td>\n    </tr>\n    <tr>\n      <th>1414</th>\n      <td>17.746374</td>\n      <td>70.488667</td>\n      <td>7.035605</td>\n      <td>1016.257917</td>\n    </tr>\n    <tr>\n      <th>1415</th>\n      <td>17.474065</td>\n      <td>65.471270</td>\n      <td>6.926038</td>\n      <td>1016.485752</td>\n    </tr>\n  </tbody>\n</table>\n<p>1416 rows × 4 columns</p>\n</div>"
     },
     "metadata": {},
     "execution_count": 26
    }
   ],
   "source": [
    "dataFrame_5=dataFrame_5.iloc[:,9:]\n",
    "dataFrame_5"
   ]
  },
  {
   "cell_type": "code",
   "execution_count": 27,
   "metadata": {},
   "outputs": [],
   "source": [
    "wcss=[]\n",
    "for i in range(1,11): \n",
    "     kmeans = KMeans(n_clusters=i, init ='k-means++', max_iter=300,  n_init=10,random_state=0)\n",
    "     kmeans.fit(dataFrame_5)\n",
    "     wcss.append(kmeans.inertia_)"
   ]
  },
  {
   "cell_type": "code",
   "execution_count": 28,
   "metadata": {},
   "outputs": [
    {
     "output_type": "display_data",
     "data": {
      "text/plain": "<Figure size 432x288 with 1 Axes>",
      "image/svg+xml": "<?xml version=\"1.0\" encoding=\"utf-8\" standalone=\"no\"?>\r\n<!DOCTYPE svg PUBLIC \"-//W3C//DTD SVG 1.1//EN\"\r\n  \"http://www.w3.org/Graphics/SVG/1.1/DTD/svg11.dtd\">\r\n<!-- Created with matplotlib (https://matplotlib.org/) -->\r\n<svg height=\"277.314375pt\" version=\"1.1\" viewBox=\"0 0 408.053125 277.314375\" width=\"408.053125pt\" xmlns=\"http://www.w3.org/2000/svg\" xmlns:xlink=\"http://www.w3.org/1999/xlink\">\r\n <metadata>\r\n  <rdf:RDF xmlns:cc=\"http://creativecommons.org/ns#\" xmlns:dc=\"http://purl.org/dc/elements/1.1/\" xmlns:rdf=\"http://www.w3.org/1999/02/22-rdf-syntax-ns#\">\r\n   <cc:Work>\r\n    <dc:type rdf:resource=\"http://purl.org/dc/dcmitype/StillImage\"/>\r\n    <dc:date>2021-01-15T16:49:40.437079</dc:date>\r\n    <dc:format>image/svg+xml</dc:format>\r\n    <dc:creator>\r\n     <cc:Agent>\r\n      <dc:title>Matplotlib v3.3.2, https://matplotlib.org/</dc:title>\r\n     </cc:Agent>\r\n    </dc:creator>\r\n   </cc:Work>\r\n  </rdf:RDF>\r\n </metadata>\r\n <defs>\r\n  <style type=\"text/css\">*{stroke-linecap:butt;stroke-linejoin:round;}</style>\r\n </defs>\r\n <g id=\"figure_1\">\r\n  <g id=\"patch_1\">\r\n   <path d=\"M 0 277.314375 \r\nL 408.053125 277.314375 \r\nL 408.053125 0 \r\nL 0 0 \r\nz\r\n\" style=\"fill:none;\"/>\r\n  </g>\r\n  <g id=\"axes_1\">\r\n   <g id=\"patch_2\">\r\n    <path d=\"M 66.053125 239.758125 \r\nL 400.853125 239.758125 \r\nL 400.853125 22.318125 \r\nL 66.053125 22.318125 \r\nz\r\n\" style=\"fill:#ffffff;\"/>\r\n   </g>\r\n   <g id=\"matplotlib.axis_1\">\r\n    <g id=\"xtick_1\">\r\n     <g id=\"line2d_1\">\r\n      <defs>\r\n       <path d=\"M 0 0 \r\nL 0 3.5 \r\n\" id=\"md8986f7ce7\" style=\"stroke:#000000;stroke-width:0.8;\"/>\r\n      </defs>\r\n      <g>\r\n       <use style=\"stroke:#000000;stroke-width:0.8;\" x=\"115.089489\" xlink:href=\"#md8986f7ce7\" y=\"239.758125\"/>\r\n      </g>\r\n     </g>\r\n     <g id=\"text_1\">\r\n      <!-- 2 -->\r\n      <g transform=\"translate(111.908239 254.356562)scale(0.1 -0.1)\">\r\n       <defs>\r\n        <path d=\"M 19.1875 8.296875 \r\nL 53.609375 8.296875 \r\nL 53.609375 0 \r\nL 7.328125 0 \r\nL 7.328125 8.296875 \r\nQ 12.9375 14.109375 22.625 23.890625 \r\nQ 32.328125 33.6875 34.8125 36.53125 \r\nQ 39.546875 41.84375 41.421875 45.53125 \r\nQ 43.3125 49.21875 43.3125 52.78125 \r\nQ 43.3125 58.59375 39.234375 62.25 \r\nQ 35.15625 65.921875 28.609375 65.921875 \r\nQ 23.96875 65.921875 18.8125 64.3125 \r\nQ 13.671875 62.703125 7.8125 59.421875 \r\nL 7.8125 69.390625 \r\nQ 13.765625 71.78125 18.9375 73 \r\nQ 24.125 74.21875 28.421875 74.21875 \r\nQ 39.75 74.21875 46.484375 68.546875 \r\nQ 53.21875 62.890625 53.21875 53.421875 \r\nQ 53.21875 48.921875 51.53125 44.890625 \r\nQ 49.859375 40.875 45.40625 35.40625 \r\nQ 44.1875 33.984375 37.640625 27.21875 \r\nQ 31.109375 20.453125 19.1875 8.296875 \r\nz\r\n\" id=\"DejaVuSans-50\"/>\r\n       </defs>\r\n       <use xlink:href=\"#DejaVuSans-50\"/>\r\n      </g>\r\n     </g>\r\n    </g>\r\n    <g id=\"xtick_2\">\r\n     <g id=\"line2d_2\">\r\n      <g>\r\n       <use style=\"stroke:#000000;stroke-width:0.8;\" x=\"182.725852\" xlink:href=\"#md8986f7ce7\" y=\"239.758125\"/>\r\n      </g>\r\n     </g>\r\n     <g id=\"text_2\">\r\n      <!-- 4 -->\r\n      <g transform=\"translate(179.544602 254.356562)scale(0.1 -0.1)\">\r\n       <defs>\r\n        <path d=\"M 37.796875 64.3125 \r\nL 12.890625 25.390625 \r\nL 37.796875 25.390625 \r\nz\r\nM 35.203125 72.90625 \r\nL 47.609375 72.90625 \r\nL 47.609375 25.390625 \r\nL 58.015625 25.390625 \r\nL 58.015625 17.1875 \r\nL 47.609375 17.1875 \r\nL 47.609375 0 \r\nL 37.796875 0 \r\nL 37.796875 17.1875 \r\nL 4.890625 17.1875 \r\nL 4.890625 26.703125 \r\nz\r\n\" id=\"DejaVuSans-52\"/>\r\n       </defs>\r\n       <use xlink:href=\"#DejaVuSans-52\"/>\r\n      </g>\r\n     </g>\r\n    </g>\r\n    <g id=\"xtick_3\">\r\n     <g id=\"line2d_3\">\r\n      <g>\r\n       <use style=\"stroke:#000000;stroke-width:0.8;\" x=\"250.362216\" xlink:href=\"#md8986f7ce7\" y=\"239.758125\"/>\r\n      </g>\r\n     </g>\r\n     <g id=\"text_3\">\r\n      <!-- 6 -->\r\n      <g transform=\"translate(247.180966 254.356562)scale(0.1 -0.1)\">\r\n       <defs>\r\n        <path d=\"M 33.015625 40.375 \r\nQ 26.375 40.375 22.484375 35.828125 \r\nQ 18.609375 31.296875 18.609375 23.390625 \r\nQ 18.609375 15.53125 22.484375 10.953125 \r\nQ 26.375 6.390625 33.015625 6.390625 \r\nQ 39.65625 6.390625 43.53125 10.953125 \r\nQ 47.40625 15.53125 47.40625 23.390625 \r\nQ 47.40625 31.296875 43.53125 35.828125 \r\nQ 39.65625 40.375 33.015625 40.375 \r\nz\r\nM 52.59375 71.296875 \r\nL 52.59375 62.3125 \r\nQ 48.875 64.0625 45.09375 64.984375 \r\nQ 41.3125 65.921875 37.59375 65.921875 \r\nQ 27.828125 65.921875 22.671875 59.328125 \r\nQ 17.53125 52.734375 16.796875 39.40625 \r\nQ 19.671875 43.65625 24.015625 45.921875 \r\nQ 28.375 48.1875 33.59375 48.1875 \r\nQ 44.578125 48.1875 50.953125 41.515625 \r\nQ 57.328125 34.859375 57.328125 23.390625 \r\nQ 57.328125 12.15625 50.6875 5.359375 \r\nQ 44.046875 -1.421875 33.015625 -1.421875 \r\nQ 20.359375 -1.421875 13.671875 8.265625 \r\nQ 6.984375 17.96875 6.984375 36.375 \r\nQ 6.984375 53.65625 15.1875 63.9375 \r\nQ 23.390625 74.21875 37.203125 74.21875 \r\nQ 40.921875 74.21875 44.703125 73.484375 \r\nQ 48.484375 72.75 52.59375 71.296875 \r\nz\r\n\" id=\"DejaVuSans-54\"/>\r\n       </defs>\r\n       <use xlink:href=\"#DejaVuSans-54\"/>\r\n      </g>\r\n     </g>\r\n    </g>\r\n    <g id=\"xtick_4\">\r\n     <g id=\"line2d_4\">\r\n      <g>\r\n       <use style=\"stroke:#000000;stroke-width:0.8;\" x=\"317.99858\" xlink:href=\"#md8986f7ce7\" y=\"239.758125\"/>\r\n      </g>\r\n     </g>\r\n     <g id=\"text_4\">\r\n      <!-- 8 -->\r\n      <g transform=\"translate(314.81733 254.356562)scale(0.1 -0.1)\">\r\n       <defs>\r\n        <path d=\"M 31.78125 34.625 \r\nQ 24.75 34.625 20.71875 30.859375 \r\nQ 16.703125 27.09375 16.703125 20.515625 \r\nQ 16.703125 13.921875 20.71875 10.15625 \r\nQ 24.75 6.390625 31.78125 6.390625 \r\nQ 38.8125 6.390625 42.859375 10.171875 \r\nQ 46.921875 13.96875 46.921875 20.515625 \r\nQ 46.921875 27.09375 42.890625 30.859375 \r\nQ 38.875 34.625 31.78125 34.625 \r\nz\r\nM 21.921875 38.8125 \r\nQ 15.578125 40.375 12.03125 44.71875 \r\nQ 8.5 49.078125 8.5 55.328125 \r\nQ 8.5 64.0625 14.71875 69.140625 \r\nQ 20.953125 74.21875 31.78125 74.21875 \r\nQ 42.671875 74.21875 48.875 69.140625 \r\nQ 55.078125 64.0625 55.078125 55.328125 \r\nQ 55.078125 49.078125 51.53125 44.71875 \r\nQ 48 40.375 41.703125 38.8125 \r\nQ 48.828125 37.15625 52.796875 32.3125 \r\nQ 56.78125 27.484375 56.78125 20.515625 \r\nQ 56.78125 9.90625 50.3125 4.234375 \r\nQ 43.84375 -1.421875 31.78125 -1.421875 \r\nQ 19.734375 -1.421875 13.25 4.234375 \r\nQ 6.78125 9.90625 6.78125 20.515625 \r\nQ 6.78125 27.484375 10.78125 32.3125 \r\nQ 14.796875 37.15625 21.921875 38.8125 \r\nz\r\nM 18.3125 54.390625 \r\nQ 18.3125 48.734375 21.84375 45.5625 \r\nQ 25.390625 42.390625 31.78125 42.390625 \r\nQ 38.140625 42.390625 41.71875 45.5625 \r\nQ 45.3125 48.734375 45.3125 54.390625 \r\nQ 45.3125 60.0625 41.71875 63.234375 \r\nQ 38.140625 66.40625 31.78125 66.40625 \r\nQ 25.390625 66.40625 21.84375 63.234375 \r\nQ 18.3125 60.0625 18.3125 54.390625 \r\nz\r\n\" id=\"DejaVuSans-56\"/>\r\n       </defs>\r\n       <use xlink:href=\"#DejaVuSans-56\"/>\r\n      </g>\r\n     </g>\r\n    </g>\r\n    <g id=\"xtick_5\">\r\n     <g id=\"line2d_5\">\r\n      <g>\r\n       <use style=\"stroke:#000000;stroke-width:0.8;\" x=\"385.634943\" xlink:href=\"#md8986f7ce7\" y=\"239.758125\"/>\r\n      </g>\r\n     </g>\r\n     <g id=\"text_5\">\r\n      <!-- 10 -->\r\n      <g transform=\"translate(379.272443 254.356562)scale(0.1 -0.1)\">\r\n       <defs>\r\n        <path d=\"M 12.40625 8.296875 \r\nL 28.515625 8.296875 \r\nL 28.515625 63.921875 \r\nL 10.984375 60.40625 \r\nL 10.984375 69.390625 \r\nL 28.421875 72.90625 \r\nL 38.28125 72.90625 \r\nL 38.28125 8.296875 \r\nL 54.390625 8.296875 \r\nL 54.390625 0 \r\nL 12.40625 0 \r\nz\r\n\" id=\"DejaVuSans-49\"/>\r\n        <path d=\"M 31.78125 66.40625 \r\nQ 24.171875 66.40625 20.328125 58.90625 \r\nQ 16.5 51.421875 16.5 36.375 \r\nQ 16.5 21.390625 20.328125 13.890625 \r\nQ 24.171875 6.390625 31.78125 6.390625 \r\nQ 39.453125 6.390625 43.28125 13.890625 \r\nQ 47.125 21.390625 47.125 36.375 \r\nQ 47.125 51.421875 43.28125 58.90625 \r\nQ 39.453125 66.40625 31.78125 66.40625 \r\nz\r\nM 31.78125 74.21875 \r\nQ 44.046875 74.21875 50.515625 64.515625 \r\nQ 56.984375 54.828125 56.984375 36.375 \r\nQ 56.984375 17.96875 50.515625 8.265625 \r\nQ 44.046875 -1.421875 31.78125 -1.421875 \r\nQ 19.53125 -1.421875 13.0625 8.265625 \r\nQ 6.59375 17.96875 6.59375 36.375 \r\nQ 6.59375 54.828125 13.0625 64.515625 \r\nQ 19.53125 74.21875 31.78125 74.21875 \r\nz\r\n\" id=\"DejaVuSans-48\"/>\r\n       </defs>\r\n       <use xlink:href=\"#DejaVuSans-49\"/>\r\n       <use x=\"63.623047\" xlink:href=\"#DejaVuSans-48\"/>\r\n      </g>\r\n     </g>\r\n    </g>\r\n    <g id=\"text_6\">\r\n     <!-- Number of clusters -->\r\n     <g transform=\"translate(185.760938 268.034687)scale(0.1 -0.1)\">\r\n      <defs>\r\n       <path d=\"M 9.8125 72.90625 \r\nL 23.09375 72.90625 \r\nL 55.421875 11.921875 \r\nL 55.421875 72.90625 \r\nL 64.984375 72.90625 \r\nL 64.984375 0 \r\nL 51.703125 0 \r\nL 19.390625 60.984375 \r\nL 19.390625 0 \r\nL 9.8125 0 \r\nz\r\n\" id=\"DejaVuSans-78\"/>\r\n       <path d=\"M 8.5 21.578125 \r\nL 8.5 54.6875 \r\nL 17.484375 54.6875 \r\nL 17.484375 21.921875 \r\nQ 17.484375 14.15625 20.5 10.265625 \r\nQ 23.53125 6.390625 29.59375 6.390625 \r\nQ 36.859375 6.390625 41.078125 11.03125 \r\nQ 45.3125 15.671875 45.3125 23.6875 \r\nL 45.3125 54.6875 \r\nL 54.296875 54.6875 \r\nL 54.296875 0 \r\nL 45.3125 0 \r\nL 45.3125 8.40625 \r\nQ 42.046875 3.421875 37.71875 1 \r\nQ 33.40625 -1.421875 27.6875 -1.421875 \r\nQ 18.265625 -1.421875 13.375 4.4375 \r\nQ 8.5 10.296875 8.5 21.578125 \r\nz\r\nM 31.109375 56 \r\nz\r\n\" id=\"DejaVuSans-117\"/>\r\n       <path d=\"M 52 44.1875 \r\nQ 55.375 50.25 60.0625 53.125 \r\nQ 64.75 56 71.09375 56 \r\nQ 79.640625 56 84.28125 50.015625 \r\nQ 88.921875 44.046875 88.921875 33.015625 \r\nL 88.921875 0 \r\nL 79.890625 0 \r\nL 79.890625 32.71875 \r\nQ 79.890625 40.578125 77.09375 44.375 \r\nQ 74.3125 48.1875 68.609375 48.1875 \r\nQ 61.625 48.1875 57.5625 43.546875 \r\nQ 53.515625 38.921875 53.515625 30.90625 \r\nL 53.515625 0 \r\nL 44.484375 0 \r\nL 44.484375 32.71875 \r\nQ 44.484375 40.625 41.703125 44.40625 \r\nQ 38.921875 48.1875 33.109375 48.1875 \r\nQ 26.21875 48.1875 22.15625 43.53125 \r\nQ 18.109375 38.875 18.109375 30.90625 \r\nL 18.109375 0 \r\nL 9.078125 0 \r\nL 9.078125 54.6875 \r\nL 18.109375 54.6875 \r\nL 18.109375 46.1875 \r\nQ 21.1875 51.21875 25.484375 53.609375 \r\nQ 29.78125 56 35.6875 56 \r\nQ 41.65625 56 45.828125 52.96875 \r\nQ 50 49.953125 52 44.1875 \r\nz\r\n\" id=\"DejaVuSans-109\"/>\r\n       <path d=\"M 48.6875 27.296875 \r\nQ 48.6875 37.203125 44.609375 42.84375 \r\nQ 40.53125 48.484375 33.40625 48.484375 \r\nQ 26.265625 48.484375 22.1875 42.84375 \r\nQ 18.109375 37.203125 18.109375 27.296875 \r\nQ 18.109375 17.390625 22.1875 11.75 \r\nQ 26.265625 6.109375 33.40625 6.109375 \r\nQ 40.53125 6.109375 44.609375 11.75 \r\nQ 48.6875 17.390625 48.6875 27.296875 \r\nz\r\nM 18.109375 46.390625 \r\nQ 20.953125 51.265625 25.265625 53.625 \r\nQ 29.59375 56 35.59375 56 \r\nQ 45.5625 56 51.78125 48.09375 \r\nQ 58.015625 40.1875 58.015625 27.296875 \r\nQ 58.015625 14.40625 51.78125 6.484375 \r\nQ 45.5625 -1.421875 35.59375 -1.421875 \r\nQ 29.59375 -1.421875 25.265625 0.953125 \r\nQ 20.953125 3.328125 18.109375 8.203125 \r\nL 18.109375 0 \r\nL 9.078125 0 \r\nL 9.078125 75.984375 \r\nL 18.109375 75.984375 \r\nz\r\n\" id=\"DejaVuSans-98\"/>\r\n       <path d=\"M 56.203125 29.59375 \r\nL 56.203125 25.203125 \r\nL 14.890625 25.203125 \r\nQ 15.484375 15.921875 20.484375 11.0625 \r\nQ 25.484375 6.203125 34.421875 6.203125 \r\nQ 39.59375 6.203125 44.453125 7.46875 \r\nQ 49.3125 8.734375 54.109375 11.28125 \r\nL 54.109375 2.78125 \r\nQ 49.265625 0.734375 44.1875 -0.34375 \r\nQ 39.109375 -1.421875 33.890625 -1.421875 \r\nQ 20.796875 -1.421875 13.15625 6.1875 \r\nQ 5.515625 13.8125 5.515625 26.8125 \r\nQ 5.515625 40.234375 12.765625 48.109375 \r\nQ 20.015625 56 32.328125 56 \r\nQ 43.359375 56 49.78125 48.890625 \r\nQ 56.203125 41.796875 56.203125 29.59375 \r\nz\r\nM 47.21875 32.234375 \r\nQ 47.125 39.59375 43.09375 43.984375 \r\nQ 39.0625 48.390625 32.421875 48.390625 \r\nQ 24.90625 48.390625 20.390625 44.140625 \r\nQ 15.875 39.890625 15.1875 32.171875 \r\nz\r\n\" id=\"DejaVuSans-101\"/>\r\n       <path d=\"M 41.109375 46.296875 \r\nQ 39.59375 47.171875 37.8125 47.578125 \r\nQ 36.03125 48 33.890625 48 \r\nQ 26.265625 48 22.1875 43.046875 \r\nQ 18.109375 38.09375 18.109375 28.8125 \r\nL 18.109375 0 \r\nL 9.078125 0 \r\nL 9.078125 54.6875 \r\nL 18.109375 54.6875 \r\nL 18.109375 46.1875 \r\nQ 20.953125 51.171875 25.484375 53.578125 \r\nQ 30.03125 56 36.53125 56 \r\nQ 37.453125 56 38.578125 55.875 \r\nQ 39.703125 55.765625 41.0625 55.515625 \r\nz\r\n\" id=\"DejaVuSans-114\"/>\r\n       <path id=\"DejaVuSans-32\"/>\r\n       <path d=\"M 30.609375 48.390625 \r\nQ 23.390625 48.390625 19.1875 42.75 \r\nQ 14.984375 37.109375 14.984375 27.296875 \r\nQ 14.984375 17.484375 19.15625 11.84375 \r\nQ 23.34375 6.203125 30.609375 6.203125 \r\nQ 37.796875 6.203125 41.984375 11.859375 \r\nQ 46.1875 17.53125 46.1875 27.296875 \r\nQ 46.1875 37.015625 41.984375 42.703125 \r\nQ 37.796875 48.390625 30.609375 48.390625 \r\nz\r\nM 30.609375 56 \r\nQ 42.328125 56 49.015625 48.375 \r\nQ 55.71875 40.765625 55.71875 27.296875 \r\nQ 55.71875 13.875 49.015625 6.21875 \r\nQ 42.328125 -1.421875 30.609375 -1.421875 \r\nQ 18.84375 -1.421875 12.171875 6.21875 \r\nQ 5.515625 13.875 5.515625 27.296875 \r\nQ 5.515625 40.765625 12.171875 48.375 \r\nQ 18.84375 56 30.609375 56 \r\nz\r\n\" id=\"DejaVuSans-111\"/>\r\n       <path d=\"M 37.109375 75.984375 \r\nL 37.109375 68.5 \r\nL 28.515625 68.5 \r\nQ 23.6875 68.5 21.796875 66.546875 \r\nQ 19.921875 64.59375 19.921875 59.515625 \r\nL 19.921875 54.6875 \r\nL 34.71875 54.6875 \r\nL 34.71875 47.703125 \r\nL 19.921875 47.703125 \r\nL 19.921875 0 \r\nL 10.890625 0 \r\nL 10.890625 47.703125 \r\nL 2.296875 47.703125 \r\nL 2.296875 54.6875 \r\nL 10.890625 54.6875 \r\nL 10.890625 58.5 \r\nQ 10.890625 67.625 15.140625 71.796875 \r\nQ 19.390625 75.984375 28.609375 75.984375 \r\nz\r\n\" id=\"DejaVuSans-102\"/>\r\n       <path d=\"M 48.78125 52.59375 \r\nL 48.78125 44.1875 \r\nQ 44.96875 46.296875 41.140625 47.34375 \r\nQ 37.3125 48.390625 33.40625 48.390625 \r\nQ 24.65625 48.390625 19.8125 42.84375 \r\nQ 14.984375 37.3125 14.984375 27.296875 \r\nQ 14.984375 17.28125 19.8125 11.734375 \r\nQ 24.65625 6.203125 33.40625 6.203125 \r\nQ 37.3125 6.203125 41.140625 7.25 \r\nQ 44.96875 8.296875 48.78125 10.40625 \r\nL 48.78125 2.09375 \r\nQ 45.015625 0.34375 40.984375 -0.53125 \r\nQ 36.96875 -1.421875 32.421875 -1.421875 \r\nQ 20.0625 -1.421875 12.78125 6.34375 \r\nQ 5.515625 14.109375 5.515625 27.296875 \r\nQ 5.515625 40.671875 12.859375 48.328125 \r\nQ 20.21875 56 33.015625 56 \r\nQ 37.15625 56 41.109375 55.140625 \r\nQ 45.0625 54.296875 48.78125 52.59375 \r\nz\r\n\" id=\"DejaVuSans-99\"/>\r\n       <path d=\"M 9.421875 75.984375 \r\nL 18.40625 75.984375 \r\nL 18.40625 0 \r\nL 9.421875 0 \r\nz\r\n\" id=\"DejaVuSans-108\"/>\r\n       <path d=\"M 44.28125 53.078125 \r\nL 44.28125 44.578125 \r\nQ 40.484375 46.53125 36.375 47.5 \r\nQ 32.28125 48.484375 27.875 48.484375 \r\nQ 21.1875 48.484375 17.84375 46.4375 \r\nQ 14.5 44.390625 14.5 40.28125 \r\nQ 14.5 37.15625 16.890625 35.375 \r\nQ 19.28125 33.59375 26.515625 31.984375 \r\nL 29.59375 31.296875 \r\nQ 39.15625 29.25 43.1875 25.515625 \r\nQ 47.21875 21.78125 47.21875 15.09375 \r\nQ 47.21875 7.46875 41.1875 3.015625 \r\nQ 35.15625 -1.421875 24.609375 -1.421875 \r\nQ 20.21875 -1.421875 15.453125 -0.5625 \r\nQ 10.6875 0.296875 5.421875 2 \r\nL 5.421875 11.28125 \r\nQ 10.40625 8.6875 15.234375 7.390625 \r\nQ 20.0625 6.109375 24.8125 6.109375 \r\nQ 31.15625 6.109375 34.5625 8.28125 \r\nQ 37.984375 10.453125 37.984375 14.40625 \r\nQ 37.984375 18.0625 35.515625 20.015625 \r\nQ 33.0625 21.96875 24.703125 23.78125 \r\nL 21.578125 24.515625 \r\nQ 13.234375 26.265625 9.515625 29.90625 \r\nQ 5.8125 33.546875 5.8125 39.890625 \r\nQ 5.8125 47.609375 11.28125 51.796875 \r\nQ 16.75 56 26.8125 56 \r\nQ 31.78125 56 36.171875 55.265625 \r\nQ 40.578125 54.546875 44.28125 53.078125 \r\nz\r\n\" id=\"DejaVuSans-115\"/>\r\n       <path d=\"M 18.3125 70.21875 \r\nL 18.3125 54.6875 \r\nL 36.8125 54.6875 \r\nL 36.8125 47.703125 \r\nL 18.3125 47.703125 \r\nL 18.3125 18.015625 \r\nQ 18.3125 11.328125 20.140625 9.421875 \r\nQ 21.96875 7.515625 27.59375 7.515625 \r\nL 36.8125 7.515625 \r\nL 36.8125 0 \r\nL 27.59375 0 \r\nQ 17.1875 0 13.234375 3.875 \r\nQ 9.28125 7.765625 9.28125 18.015625 \r\nL 9.28125 47.703125 \r\nL 2.6875 47.703125 \r\nL 2.6875 54.6875 \r\nL 9.28125 54.6875 \r\nL 9.28125 70.21875 \r\nz\r\n\" id=\"DejaVuSans-116\"/>\r\n      </defs>\r\n      <use xlink:href=\"#DejaVuSans-78\"/>\r\n      <use x=\"74.804688\" xlink:href=\"#DejaVuSans-117\"/>\r\n      <use x=\"138.183594\" xlink:href=\"#DejaVuSans-109\"/>\r\n      <use x=\"235.595703\" xlink:href=\"#DejaVuSans-98\"/>\r\n      <use x=\"299.072266\" xlink:href=\"#DejaVuSans-101\"/>\r\n      <use x=\"360.595703\" xlink:href=\"#DejaVuSans-114\"/>\r\n      <use x=\"401.708984\" xlink:href=\"#DejaVuSans-32\"/>\r\n      <use x=\"433.496094\" xlink:href=\"#DejaVuSans-111\"/>\r\n      <use x=\"494.677734\" xlink:href=\"#DejaVuSans-102\"/>\r\n      <use x=\"529.882812\" xlink:href=\"#DejaVuSans-32\"/>\r\n      <use x=\"561.669922\" xlink:href=\"#DejaVuSans-99\"/>\r\n      <use x=\"616.650391\" xlink:href=\"#DejaVuSans-108\"/>\r\n      <use x=\"644.433594\" xlink:href=\"#DejaVuSans-117\"/>\r\n      <use x=\"707.8125\" xlink:href=\"#DejaVuSans-115\"/>\r\n      <use x=\"759.912109\" xlink:href=\"#DejaVuSans-116\"/>\r\n      <use x=\"799.121094\" xlink:href=\"#DejaVuSans-101\"/>\r\n      <use x=\"860.644531\" xlink:href=\"#DejaVuSans-114\"/>\r\n      <use x=\"901.757812\" xlink:href=\"#DejaVuSans-115\"/>\r\n     </g>\r\n    </g>\r\n   </g>\r\n   <g id=\"matplotlib.axis_2\">\r\n    <g id=\"ytick_1\">\r\n     <g id=\"line2d_6\">\r\n      <defs>\r\n       <path d=\"M 0 0 \r\nL -3.5 0 \r\n\" id=\"m4e105cf767\" style=\"stroke:#000000;stroke-width:0.8;\"/>\r\n      </defs>\r\n      <g>\r\n       <use style=\"stroke:#000000;stroke-width:0.8;\" x=\"66.053125\" xlink:href=\"#m4e105cf767\" y=\"216.670912\"/>\r\n      </g>\r\n     </g>\r\n     <g id=\"text_7\">\r\n      <!-- 50000 -->\r\n      <g transform=\"translate(27.240625 220.470131)scale(0.1 -0.1)\">\r\n       <defs>\r\n        <path d=\"M 10.796875 72.90625 \r\nL 49.515625 72.90625 \r\nL 49.515625 64.59375 \r\nL 19.828125 64.59375 \r\nL 19.828125 46.734375 \r\nQ 21.96875 47.46875 24.109375 47.828125 \r\nQ 26.265625 48.1875 28.421875 48.1875 \r\nQ 40.625 48.1875 47.75 41.5 \r\nQ 54.890625 34.8125 54.890625 23.390625 \r\nQ 54.890625 11.625 47.5625 5.09375 \r\nQ 40.234375 -1.421875 26.90625 -1.421875 \r\nQ 22.3125 -1.421875 17.546875 -0.640625 \r\nQ 12.796875 0.140625 7.71875 1.703125 \r\nL 7.71875 11.625 \r\nQ 12.109375 9.234375 16.796875 8.0625 \r\nQ 21.484375 6.890625 26.703125 6.890625 \r\nQ 35.15625 6.890625 40.078125 11.328125 \r\nQ 45.015625 15.765625 45.015625 23.390625 \r\nQ 45.015625 31 40.078125 35.4375 \r\nQ 35.15625 39.890625 26.703125 39.890625 \r\nQ 22.75 39.890625 18.8125 39.015625 \r\nQ 14.890625 38.140625 10.796875 36.28125 \r\nz\r\n\" id=\"DejaVuSans-53\"/>\r\n       </defs>\r\n       <use xlink:href=\"#DejaVuSans-53\"/>\r\n       <use x=\"63.623047\" xlink:href=\"#DejaVuSans-48\"/>\r\n       <use x=\"127.246094\" xlink:href=\"#DejaVuSans-48\"/>\r\n       <use x=\"190.869141\" xlink:href=\"#DejaVuSans-48\"/>\r\n       <use x=\"254.492188\" xlink:href=\"#DejaVuSans-48\"/>\r\n      </g>\r\n     </g>\r\n    </g>\r\n    <g id=\"ytick_2\">\r\n     <g id=\"line2d_7\">\r\n      <g>\r\n       <use style=\"stroke:#000000;stroke-width:0.8;\" x=\"66.053125\" xlink:href=\"#m4e105cf767\" y=\"182.137901\"/>\r\n      </g>\r\n     </g>\r\n     <g id=\"text_8\">\r\n      <!-- 100000 -->\r\n      <g transform=\"translate(20.878125 185.93712)scale(0.1 -0.1)\">\r\n       <use xlink:href=\"#DejaVuSans-49\"/>\r\n       <use x=\"63.623047\" xlink:href=\"#DejaVuSans-48\"/>\r\n       <use x=\"127.246094\" xlink:href=\"#DejaVuSans-48\"/>\r\n       <use x=\"190.869141\" xlink:href=\"#DejaVuSans-48\"/>\r\n       <use x=\"254.492188\" xlink:href=\"#DejaVuSans-48\"/>\r\n       <use x=\"318.115234\" xlink:href=\"#DejaVuSans-48\"/>\r\n      </g>\r\n     </g>\r\n    </g>\r\n    <g id=\"ytick_3\">\r\n     <g id=\"line2d_8\">\r\n      <g>\r\n       <use style=\"stroke:#000000;stroke-width:0.8;\" x=\"66.053125\" xlink:href=\"#m4e105cf767\" y=\"147.604891\"/>\r\n      </g>\r\n     </g>\r\n     <g id=\"text_9\">\r\n      <!-- 150000 -->\r\n      <g transform=\"translate(20.878125 151.40411)scale(0.1 -0.1)\">\r\n       <use xlink:href=\"#DejaVuSans-49\"/>\r\n       <use x=\"63.623047\" xlink:href=\"#DejaVuSans-53\"/>\r\n       <use x=\"127.246094\" xlink:href=\"#DejaVuSans-48\"/>\r\n       <use x=\"190.869141\" xlink:href=\"#DejaVuSans-48\"/>\r\n       <use x=\"254.492188\" xlink:href=\"#DejaVuSans-48\"/>\r\n       <use x=\"318.115234\" xlink:href=\"#DejaVuSans-48\"/>\r\n      </g>\r\n     </g>\r\n    </g>\r\n    <g id=\"ytick_4\">\r\n     <g id=\"line2d_9\">\r\n      <g>\r\n       <use style=\"stroke:#000000;stroke-width:0.8;\" x=\"66.053125\" xlink:href=\"#m4e105cf767\" y=\"113.071881\"/>\r\n      </g>\r\n     </g>\r\n     <g id=\"text_10\">\r\n      <!-- 200000 -->\r\n      <g transform=\"translate(20.878125 116.871099)scale(0.1 -0.1)\">\r\n       <use xlink:href=\"#DejaVuSans-50\"/>\r\n       <use x=\"63.623047\" xlink:href=\"#DejaVuSans-48\"/>\r\n       <use x=\"127.246094\" xlink:href=\"#DejaVuSans-48\"/>\r\n       <use x=\"190.869141\" xlink:href=\"#DejaVuSans-48\"/>\r\n       <use x=\"254.492188\" xlink:href=\"#DejaVuSans-48\"/>\r\n       <use x=\"318.115234\" xlink:href=\"#DejaVuSans-48\"/>\r\n      </g>\r\n     </g>\r\n    </g>\r\n    <g id=\"ytick_5\">\r\n     <g id=\"line2d_10\">\r\n      <g>\r\n       <use style=\"stroke:#000000;stroke-width:0.8;\" x=\"66.053125\" xlink:href=\"#m4e105cf767\" y=\"78.53887\"/>\r\n      </g>\r\n     </g>\r\n     <g id=\"text_11\">\r\n      <!-- 250000 -->\r\n      <g transform=\"translate(20.878125 82.338089)scale(0.1 -0.1)\">\r\n       <use xlink:href=\"#DejaVuSans-50\"/>\r\n       <use x=\"63.623047\" xlink:href=\"#DejaVuSans-53\"/>\r\n       <use x=\"127.246094\" xlink:href=\"#DejaVuSans-48\"/>\r\n       <use x=\"190.869141\" xlink:href=\"#DejaVuSans-48\"/>\r\n       <use x=\"254.492188\" xlink:href=\"#DejaVuSans-48\"/>\r\n       <use x=\"318.115234\" xlink:href=\"#DejaVuSans-48\"/>\r\n      </g>\r\n     </g>\r\n    </g>\r\n    <g id=\"ytick_6\">\r\n     <g id=\"line2d_11\">\r\n      <g>\r\n       <use style=\"stroke:#000000;stroke-width:0.8;\" x=\"66.053125\" xlink:href=\"#m4e105cf767\" y=\"44.00586\"/>\r\n      </g>\r\n     </g>\r\n     <g id=\"text_12\">\r\n      <!-- 300000 -->\r\n      <g transform=\"translate(20.878125 47.805079)scale(0.1 -0.1)\">\r\n       <defs>\r\n        <path d=\"M 40.578125 39.3125 \r\nQ 47.65625 37.796875 51.625 33 \r\nQ 55.609375 28.21875 55.609375 21.1875 \r\nQ 55.609375 10.40625 48.1875 4.484375 \r\nQ 40.765625 -1.421875 27.09375 -1.421875 \r\nQ 22.515625 -1.421875 17.65625 -0.515625 \r\nQ 12.796875 0.390625 7.625 2.203125 \r\nL 7.625 11.71875 \r\nQ 11.71875 9.328125 16.59375 8.109375 \r\nQ 21.484375 6.890625 26.8125 6.890625 \r\nQ 36.078125 6.890625 40.9375 10.546875 \r\nQ 45.796875 14.203125 45.796875 21.1875 \r\nQ 45.796875 27.640625 41.28125 31.265625 \r\nQ 36.765625 34.90625 28.71875 34.90625 \r\nL 20.21875 34.90625 \r\nL 20.21875 43.015625 \r\nL 29.109375 43.015625 \r\nQ 36.375 43.015625 40.234375 45.921875 \r\nQ 44.09375 48.828125 44.09375 54.296875 \r\nQ 44.09375 59.90625 40.109375 62.90625 \r\nQ 36.140625 65.921875 28.71875 65.921875 \r\nQ 24.65625 65.921875 20.015625 65.03125 \r\nQ 15.375 64.15625 9.8125 62.3125 \r\nL 9.8125 71.09375 \r\nQ 15.4375 72.65625 20.34375 73.4375 \r\nQ 25.25 74.21875 29.59375 74.21875 \r\nQ 40.828125 74.21875 47.359375 69.109375 \r\nQ 53.90625 64.015625 53.90625 55.328125 \r\nQ 53.90625 49.265625 50.4375 45.09375 \r\nQ 46.96875 40.921875 40.578125 39.3125 \r\nz\r\n\" id=\"DejaVuSans-51\"/>\r\n       </defs>\r\n       <use xlink:href=\"#DejaVuSans-51\"/>\r\n       <use x=\"63.623047\" xlink:href=\"#DejaVuSans-48\"/>\r\n       <use x=\"127.246094\" xlink:href=\"#DejaVuSans-48\"/>\r\n       <use x=\"190.869141\" xlink:href=\"#DejaVuSans-48\"/>\r\n       <use x=\"254.492188\" xlink:href=\"#DejaVuSans-48\"/>\r\n       <use x=\"318.115234\" xlink:href=\"#DejaVuSans-48\"/>\r\n      </g>\r\n     </g>\r\n    </g>\r\n    <g id=\"text_13\">\r\n     <!-- WCSS -->\r\n     <g transform=\"translate(14.798438 145.821719)rotate(-90)scale(0.1 -0.1)\">\r\n      <defs>\r\n       <path d=\"M 3.328125 72.90625 \r\nL 13.28125 72.90625 \r\nL 28.609375 11.28125 \r\nL 43.890625 72.90625 \r\nL 54.984375 72.90625 \r\nL 70.3125 11.28125 \r\nL 85.59375 72.90625 \r\nL 95.609375 72.90625 \r\nL 77.296875 0 \r\nL 64.890625 0 \r\nL 49.515625 63.28125 \r\nL 33.984375 0 \r\nL 21.578125 0 \r\nz\r\n\" id=\"DejaVuSans-87\"/>\r\n       <path d=\"M 64.40625 67.28125 \r\nL 64.40625 56.890625 \r\nQ 59.421875 61.53125 53.78125 63.8125 \r\nQ 48.140625 66.109375 41.796875 66.109375 \r\nQ 29.296875 66.109375 22.65625 58.46875 \r\nQ 16.015625 50.828125 16.015625 36.375 \r\nQ 16.015625 21.96875 22.65625 14.328125 \r\nQ 29.296875 6.6875 41.796875 6.6875 \r\nQ 48.140625 6.6875 53.78125 8.984375 \r\nQ 59.421875 11.28125 64.40625 15.921875 \r\nL 64.40625 5.609375 \r\nQ 59.234375 2.09375 53.4375 0.328125 \r\nQ 47.65625 -1.421875 41.21875 -1.421875 \r\nQ 24.65625 -1.421875 15.125 8.703125 \r\nQ 5.609375 18.84375 5.609375 36.375 \r\nQ 5.609375 53.953125 15.125 64.078125 \r\nQ 24.65625 74.21875 41.21875 74.21875 \r\nQ 47.75 74.21875 53.53125 72.484375 \r\nQ 59.328125 70.75 64.40625 67.28125 \r\nz\r\n\" id=\"DejaVuSans-67\"/>\r\n       <path d=\"M 53.515625 70.515625 \r\nL 53.515625 60.890625 \r\nQ 47.90625 63.578125 42.921875 64.890625 \r\nQ 37.9375 66.21875 33.296875 66.21875 \r\nQ 25.25 66.21875 20.875 63.09375 \r\nQ 16.5 59.96875 16.5 54.203125 \r\nQ 16.5 49.359375 19.40625 46.890625 \r\nQ 22.3125 44.4375 30.421875 42.921875 \r\nL 36.375 41.703125 \r\nQ 47.40625 39.59375 52.65625 34.296875 \r\nQ 57.90625 29 57.90625 20.125 \r\nQ 57.90625 9.515625 50.796875 4.046875 \r\nQ 43.703125 -1.421875 29.984375 -1.421875 \r\nQ 24.8125 -1.421875 18.96875 -0.25 \r\nQ 13.140625 0.921875 6.890625 3.21875 \r\nL 6.890625 13.375 \r\nQ 12.890625 10.015625 18.65625 8.296875 \r\nQ 24.421875 6.59375 29.984375 6.59375 \r\nQ 38.421875 6.59375 43.015625 9.90625 \r\nQ 47.609375 13.234375 47.609375 19.390625 \r\nQ 47.609375 24.75 44.3125 27.78125 \r\nQ 41.015625 30.8125 33.5 32.328125 \r\nL 27.484375 33.5 \r\nQ 16.453125 35.6875 11.515625 40.375 \r\nQ 6.59375 45.0625 6.59375 53.421875 \r\nQ 6.59375 63.09375 13.40625 68.65625 \r\nQ 20.21875 74.21875 32.171875 74.21875 \r\nQ 37.3125 74.21875 42.625 73.28125 \r\nQ 47.953125 72.359375 53.515625 70.515625 \r\nz\r\n\" id=\"DejaVuSans-83\"/>\r\n      </defs>\r\n      <use xlink:href=\"#DejaVuSans-87\"/>\r\n      <use x=\"98.876953\" xlink:href=\"#DejaVuSans-67\"/>\r\n      <use x=\"168.701172\" xlink:href=\"#DejaVuSans-83\"/>\r\n      <use x=\"232.177734\" xlink:href=\"#DejaVuSans-83\"/>\r\n     </g>\r\n    </g>\r\n   </g>\r\n   <g id=\"line2d_12\">\r\n    <path clip-path=\"url(#p0b92c138ac)\" d=\"M 81.271307 32.201761 \r\nL 115.089489 136.627518 \r\nL 148.90767 177.894391 \r\nL 182.725852 198.680399 \r\nL 216.544034 211.212349 \r\nL 250.362216 216.882855 \r\nL 284.180398 221.621154 \r\nL 317.99858 224.919729 \r\nL 351.816761 227.620871 \r\nL 385.634943 229.874489 \r\n\" style=\"fill:none;stroke:#1f77b4;stroke-linecap:square;stroke-width:1.5;\"/>\r\n   </g>\r\n   <g id=\"patch_3\">\r\n    <path d=\"M 66.053125 239.758125 \r\nL 66.053125 22.318125 \r\n\" style=\"fill:none;stroke:#000000;stroke-linecap:square;stroke-linejoin:miter;stroke-width:0.8;\"/>\r\n   </g>\r\n   <g id=\"patch_4\">\r\n    <path d=\"M 400.853125 239.758125 \r\nL 400.853125 22.318125 \r\n\" style=\"fill:none;stroke:#000000;stroke-linecap:square;stroke-linejoin:miter;stroke-width:0.8;\"/>\r\n   </g>\r\n   <g id=\"patch_5\">\r\n    <path d=\"M 66.053125 239.758125 \r\nL 400.853125 239.758125 \r\n\" style=\"fill:none;stroke:#000000;stroke-linecap:square;stroke-linejoin:miter;stroke-width:0.8;\"/>\r\n   </g>\r\n   <g id=\"patch_6\">\r\n    <path d=\"M 66.053125 22.318125 \r\nL 400.853125 22.318125 \r\n\" style=\"fill:none;stroke:#000000;stroke-linecap:square;stroke-linejoin:miter;stroke-width:0.8;\"/>\r\n   </g>\r\n   <g id=\"text_14\">\r\n    <!-- The Elbow Method Graph -->\r\n    <g transform=\"translate(157.820312 16.318125)scale(0.12 -0.12)\">\r\n     <defs>\r\n      <path d=\"M -0.296875 72.90625 \r\nL 61.375 72.90625 \r\nL 61.375 64.59375 \r\nL 35.5 64.59375 \r\nL 35.5 0 \r\nL 25.59375 0 \r\nL 25.59375 64.59375 \r\nL -0.296875 64.59375 \r\nz\r\n\" id=\"DejaVuSans-84\"/>\r\n      <path d=\"M 54.890625 33.015625 \r\nL 54.890625 0 \r\nL 45.90625 0 \r\nL 45.90625 32.71875 \r\nQ 45.90625 40.484375 42.875 44.328125 \r\nQ 39.84375 48.1875 33.796875 48.1875 \r\nQ 26.515625 48.1875 22.3125 43.546875 \r\nQ 18.109375 38.921875 18.109375 30.90625 \r\nL 18.109375 0 \r\nL 9.078125 0 \r\nL 9.078125 75.984375 \r\nL 18.109375 75.984375 \r\nL 18.109375 46.1875 \r\nQ 21.34375 51.125 25.703125 53.5625 \r\nQ 30.078125 56 35.796875 56 \r\nQ 45.21875 56 50.046875 50.171875 \r\nQ 54.890625 44.34375 54.890625 33.015625 \r\nz\r\n\" id=\"DejaVuSans-104\"/>\r\n      <path d=\"M 9.8125 72.90625 \r\nL 55.90625 72.90625 \r\nL 55.90625 64.59375 \r\nL 19.671875 64.59375 \r\nL 19.671875 43.015625 \r\nL 54.390625 43.015625 \r\nL 54.390625 34.71875 \r\nL 19.671875 34.71875 \r\nL 19.671875 8.296875 \r\nL 56.78125 8.296875 \r\nL 56.78125 0 \r\nL 9.8125 0 \r\nz\r\n\" id=\"DejaVuSans-69\"/>\r\n      <path d=\"M 4.203125 54.6875 \r\nL 13.1875 54.6875 \r\nL 24.421875 12.015625 \r\nL 35.59375 54.6875 \r\nL 46.1875 54.6875 \r\nL 57.421875 12.015625 \r\nL 68.609375 54.6875 \r\nL 77.59375 54.6875 \r\nL 63.28125 0 \r\nL 52.6875 0 \r\nL 40.921875 44.828125 \r\nL 29.109375 0 \r\nL 18.5 0 \r\nz\r\n\" id=\"DejaVuSans-119\"/>\r\n      <path d=\"M 9.8125 72.90625 \r\nL 24.515625 72.90625 \r\nL 43.109375 23.296875 \r\nL 61.8125 72.90625 \r\nL 76.515625 72.90625 \r\nL 76.515625 0 \r\nL 66.890625 0 \r\nL 66.890625 64.015625 \r\nL 48.09375 14.015625 \r\nL 38.1875 14.015625 \r\nL 19.390625 64.015625 \r\nL 19.390625 0 \r\nL 9.8125 0 \r\nz\r\n\" id=\"DejaVuSans-77\"/>\r\n      <path d=\"M 45.40625 46.390625 \r\nL 45.40625 75.984375 \r\nL 54.390625 75.984375 \r\nL 54.390625 0 \r\nL 45.40625 0 \r\nL 45.40625 8.203125 \r\nQ 42.578125 3.328125 38.25 0.953125 \r\nQ 33.9375 -1.421875 27.875 -1.421875 \r\nQ 17.96875 -1.421875 11.734375 6.484375 \r\nQ 5.515625 14.40625 5.515625 27.296875 \r\nQ 5.515625 40.1875 11.734375 48.09375 \r\nQ 17.96875 56 27.875 56 \r\nQ 33.9375 56 38.25 53.625 \r\nQ 42.578125 51.265625 45.40625 46.390625 \r\nz\r\nM 14.796875 27.296875 \r\nQ 14.796875 17.390625 18.875 11.75 \r\nQ 22.953125 6.109375 30.078125 6.109375 \r\nQ 37.203125 6.109375 41.296875 11.75 \r\nQ 45.40625 17.390625 45.40625 27.296875 \r\nQ 45.40625 37.203125 41.296875 42.84375 \r\nQ 37.203125 48.484375 30.078125 48.484375 \r\nQ 22.953125 48.484375 18.875 42.84375 \r\nQ 14.796875 37.203125 14.796875 27.296875 \r\nz\r\n\" id=\"DejaVuSans-100\"/>\r\n      <path d=\"M 59.515625 10.40625 \r\nL 59.515625 29.984375 \r\nL 43.40625 29.984375 \r\nL 43.40625 38.09375 \r\nL 69.28125 38.09375 \r\nL 69.28125 6.78125 \r\nQ 63.578125 2.734375 56.6875 0.65625 \r\nQ 49.8125 -1.421875 42 -1.421875 \r\nQ 24.90625 -1.421875 15.25 8.5625 \r\nQ 5.609375 18.5625 5.609375 36.375 \r\nQ 5.609375 54.25 15.25 64.234375 \r\nQ 24.90625 74.21875 42 74.21875 \r\nQ 49.125 74.21875 55.546875 72.453125 \r\nQ 61.96875 70.703125 67.390625 67.28125 \r\nL 67.390625 56.78125 \r\nQ 61.921875 61.421875 55.765625 63.765625 \r\nQ 49.609375 66.109375 42.828125 66.109375 \r\nQ 29.4375 66.109375 22.71875 58.640625 \r\nQ 16.015625 51.171875 16.015625 36.375 \r\nQ 16.015625 21.625 22.71875 14.15625 \r\nQ 29.4375 6.6875 42.828125 6.6875 \r\nQ 48.046875 6.6875 52.140625 7.59375 \r\nQ 56.25 8.5 59.515625 10.40625 \r\nz\r\n\" id=\"DejaVuSans-71\"/>\r\n      <path d=\"M 34.28125 27.484375 \r\nQ 23.390625 27.484375 19.1875 25 \r\nQ 14.984375 22.515625 14.984375 16.5 \r\nQ 14.984375 11.71875 18.140625 8.90625 \r\nQ 21.296875 6.109375 26.703125 6.109375 \r\nQ 34.1875 6.109375 38.703125 11.40625 \r\nQ 43.21875 16.703125 43.21875 25.484375 \r\nL 43.21875 27.484375 \r\nz\r\nM 52.203125 31.203125 \r\nL 52.203125 0 \r\nL 43.21875 0 \r\nL 43.21875 8.296875 \r\nQ 40.140625 3.328125 35.546875 0.953125 \r\nQ 30.953125 -1.421875 24.3125 -1.421875 \r\nQ 15.921875 -1.421875 10.953125 3.296875 \r\nQ 6 8.015625 6 15.921875 \r\nQ 6 25.140625 12.171875 29.828125 \r\nQ 18.359375 34.515625 30.609375 34.515625 \r\nL 43.21875 34.515625 \r\nL 43.21875 35.40625 \r\nQ 43.21875 41.609375 39.140625 45 \r\nQ 35.0625 48.390625 27.6875 48.390625 \r\nQ 23 48.390625 18.546875 47.265625 \r\nQ 14.109375 46.140625 10.015625 43.890625 \r\nL 10.015625 52.203125 \r\nQ 14.9375 54.109375 19.578125 55.046875 \r\nQ 24.21875 56 28.609375 56 \r\nQ 40.484375 56 46.34375 49.84375 \r\nQ 52.203125 43.703125 52.203125 31.203125 \r\nz\r\n\" id=\"DejaVuSans-97\"/>\r\n      <path d=\"M 18.109375 8.203125 \r\nL 18.109375 -20.796875 \r\nL 9.078125 -20.796875 \r\nL 9.078125 54.6875 \r\nL 18.109375 54.6875 \r\nL 18.109375 46.390625 \r\nQ 20.953125 51.265625 25.265625 53.625 \r\nQ 29.59375 56 35.59375 56 \r\nQ 45.5625 56 51.78125 48.09375 \r\nQ 58.015625 40.1875 58.015625 27.296875 \r\nQ 58.015625 14.40625 51.78125 6.484375 \r\nQ 45.5625 -1.421875 35.59375 -1.421875 \r\nQ 29.59375 -1.421875 25.265625 0.953125 \r\nQ 20.953125 3.328125 18.109375 8.203125 \r\nz\r\nM 48.6875 27.296875 \r\nQ 48.6875 37.203125 44.609375 42.84375 \r\nQ 40.53125 48.484375 33.40625 48.484375 \r\nQ 26.265625 48.484375 22.1875 42.84375 \r\nQ 18.109375 37.203125 18.109375 27.296875 \r\nQ 18.109375 17.390625 22.1875 11.75 \r\nQ 26.265625 6.109375 33.40625 6.109375 \r\nQ 40.53125 6.109375 44.609375 11.75 \r\nQ 48.6875 17.390625 48.6875 27.296875 \r\nz\r\n\" id=\"DejaVuSans-112\"/>\r\n     </defs>\r\n     <use xlink:href=\"#DejaVuSans-84\"/>\r\n     <use x=\"61.083984\" xlink:href=\"#DejaVuSans-104\"/>\r\n     <use x=\"124.462891\" xlink:href=\"#DejaVuSans-101\"/>\r\n     <use x=\"185.986328\" xlink:href=\"#DejaVuSans-32\"/>\r\n     <use x=\"217.773438\" xlink:href=\"#DejaVuSans-69\"/>\r\n     <use x=\"280.957031\" xlink:href=\"#DejaVuSans-108\"/>\r\n     <use x=\"308.740234\" xlink:href=\"#DejaVuSans-98\"/>\r\n     <use x=\"372.216797\" xlink:href=\"#DejaVuSans-111\"/>\r\n     <use x=\"433.398438\" xlink:href=\"#DejaVuSans-119\"/>\r\n     <use x=\"515.185547\" xlink:href=\"#DejaVuSans-32\"/>\r\n     <use x=\"546.972656\" xlink:href=\"#DejaVuSans-77\"/>\r\n     <use x=\"633.251953\" xlink:href=\"#DejaVuSans-101\"/>\r\n     <use x=\"694.775391\" xlink:href=\"#DejaVuSans-116\"/>\r\n     <use x=\"733.984375\" xlink:href=\"#DejaVuSans-104\"/>\r\n     <use x=\"797.363281\" xlink:href=\"#DejaVuSans-111\"/>\r\n     <use x=\"858.544922\" xlink:href=\"#DejaVuSans-100\"/>\r\n     <use x=\"922.021484\" xlink:href=\"#DejaVuSans-32\"/>\r\n     <use x=\"953.808594\" xlink:href=\"#DejaVuSans-71\"/>\r\n     <use x=\"1031.298828\" xlink:href=\"#DejaVuSans-114\"/>\r\n     <use x=\"1072.412109\" xlink:href=\"#DejaVuSans-97\"/>\r\n     <use x=\"1133.691406\" xlink:href=\"#DejaVuSans-112\"/>\r\n     <use x=\"1197.167969\" xlink:href=\"#DejaVuSans-104\"/>\r\n    </g>\r\n   </g>\r\n  </g>\r\n </g>\r\n <defs>\r\n  <clipPath id=\"p0b92c138ac\">\r\n   <rect height=\"217.44\" width=\"334.8\" x=\"66.053125\" y=\"22.318125\"/>\r\n  </clipPath>\r\n </defs>\r\n</svg>\r\n",
      "image/png": "[encoded data removed]"
     },
     "metadata": {
      "needs_background": "light"
     }
    }
   ],
   "source": [
    "plt.plot(range(1,11),wcss)\n",
    "plt.title('The Elbow Method Graph')\n",
    "plt.xlabel('Number of clusters')\n",
    "plt.ylabel('WCSS')\n",
    "plt.show()"
   ]
  },
  {
   "cell_type": "code",
   "execution_count": 29,
   "metadata": {},
   "outputs": [
    {
     "output_type": "execute_result",
     "data": {
      "text/plain": [
       "1416"
      ]
     },
     "metadata": {},
     "execution_count": 29
    }
   ],
   "source": [
    "dataFrame_5.shape[0]"
   ]
  },
  {
   "cell_type": "code",
   "execution_count": 30,
   "metadata": {},
   "outputs": [
    {
     "output_type": "execute_result",
     "data": {
      "text/plain": [
       "      ActualPred_Temperature  ActualPred_Humidity  ActualPred_Wind Speed  \\\n",
       "0                  11.104700            77.109865               4.893047   \n",
       "1                   8.687131            82.259686               5.619899   \n",
       "2                   8.470169            78.826472               6.023164   \n",
       "3                   9.864921            68.069068               5.193870   \n",
       "4                   7.385363            78.712031               5.795515   \n",
       "...                      ...                  ...                    ...   \n",
       "1411               16.265281            70.380766               5.186959   \n",
       "1412               17.909397            73.083641               6.170249   \n",
       "1413               14.824038            83.838964               7.108971   \n",
       "1414               17.746374            70.488667               7.035605   \n",
       "1415               17.474065            65.471270               6.926038   \n",
       "\n",
       "      ActualPred_Pressure       outlook  \n",
       "0             1015.074926  Partly cloud  \n",
       "1             1017.037815  Partly cloud  \n",
       "2             1017.835238  Partly cloud  \n",
       "3             1016.455082  Partly cloud  \n",
       "4             1015.841679  Partly cloud  \n",
       "...                   ...           ...  \n",
       "1411          1013.771445  Partly cloud  \n",
       "1412          1011.073867  Partly cloud  \n",
       "1413          1013.863455  Partly cloud  \n",
       "1414          1016.257917  Partly cloud  \n",
       "1415          1016.485752  Partly cloud  \n",
       "\n",
       "[1416 rows x 5 columns]"
      ],
      "text/html": "<div>\n<style scoped>\n    .dataframe tbody tr th:only-of-type {\n        vertical-align: middle;\n    }\n\n    .dataframe tbody tr th {\n        vertical-align: top;\n    }\n\n    .dataframe thead th {\n        text-align: right;\n    }\n</style>\n<table border=\"1\" class=\"dataframe\">\n  <thead>\n    <tr style=\"text-align: right;\">\n      <th></th>\n      <th>ActualPred_Temperature</th>\n      <th>ActualPred_Humidity</th>\n      <th>ActualPred_Wind Speed</th>\n      <th>ActualPred_Pressure</th>\n      <th>outlook</th>\n    </tr>\n  </thead>\n  <tbody>\n    <tr>\n      <th>0</th>\n      <td>11.104700</td>\n      <td>77.109865</td>\n      <td>4.893047</td>\n      <td>1015.074926</td>\n      <td>Partly cloud</td>\n    </tr>\n    <tr>\n      <th>1</th>\n      <td>8.687131</td>\n      <td>82.259686</td>\n      <td>5.619899</td>\n      <td>1017.037815</td>\n      <td>Partly cloud</td>\n    </tr>\n    <tr>\n      <th>2</th>\n      <td>8.470169</td>\n      <td>78.826472</td>\n      <td>6.023164</td>\n      <td>1017.835238</td>\n      <td>Partly cloud</td>\n    </tr>\n    <tr>\n      <th>3</th>\n      <td>9.864921</td>\n      <td>68.069068</td>\n      <td>5.193870</td>\n      <td>1016.455082</td>\n      <td>Partly cloud</td>\n    </tr>\n    <tr>\n      <th>4</th>\n      <td>7.385363</td>\n      <td>78.712031</td>\n      <td>5.795515</td>\n      <td>1015.841679</td>\n      <td>Partly cloud</td>\n    </tr>\n    <tr>\n      <th>...</th>\n      <td>...</td>\n      <td>...</td>\n      <td>...</td>\n      <td>...</td>\n      <td>...</td>\n    </tr>\n    <tr>\n      <th>1411</th>\n      <td>16.265281</td>\n      <td>70.380766</td>\n      <td>5.186959</td>\n      <td>1013.771445</td>\n      <td>Partly cloud</td>\n    </tr>\n    <tr>\n      <th>1412</th>\n      <td>17.909397</td>\n      <td>73.083641</td>\n      <td>6.170249</td>\n      <td>1011.073867</td>\n      <td>Partly cloud</td>\n    </tr>\n    <tr>\n      <th>1413</th>\n      <td>14.824038</td>\n      <td>83.838964</td>\n      <td>7.108971</td>\n      <td>1013.863455</td>\n      <td>Partly cloud</td>\n    </tr>\n    <tr>\n      <th>1414</th>\n      <td>17.746374</td>\n      <td>70.488667</td>\n      <td>7.035605</td>\n      <td>1016.257917</td>\n      <td>Partly cloud</td>\n    </tr>\n    <tr>\n      <th>1415</th>\n      <td>17.474065</td>\n      <td>65.471270</td>\n      <td>6.926038</td>\n      <td>1016.485752</td>\n      <td>Partly cloud</td>\n    </tr>\n  </tbody>\n</table>\n<p>1416 rows × 5 columns</p>\n</div>"
     },
     "metadata": {},
     "execution_count": 30
    }
   ],
   "source": [
    "kmeans = KMeans(n_clusters=4, init ='k-means++', max_iter=300, n_init=10 )\n",
    "\n",
    "y_kmeans = kmeans.fit_predict(dataFrame_5)\n",
    "\n",
    "# for i in range(0,1421):\n",
    "#     print(y_kmeans[i])\n",
    "for i in range(0,dataFrame_5.shape[0]):\n",
    "    if(y_kmeans[i]==0):\n",
    "        dataFrame_5.loc[i, 'outlook'] = \"Partly cloud\"\n",
    "    if(y_kmeans[i]==1):\n",
    "        dataFrame_5.loc[i, 'outlook'] = \"Cold\"\n",
    "    if(y_kmeans[i]==2):\n",
    "        dataFrame_5.loc[i, 'outlook'] = \"Clear\"\n",
    "    if(y_kmeans[i]==3):\n",
    "        dataFrame_5.loc[i, 'outlook'] = \"Cloudy\"\n",
    "dataFrame_5"
   ]
  },
  {
   "cell_type": "code",
   "execution_count": 31,
   "metadata": {},
   "outputs": [],
   "source": [
    "# dataFrame_5[\"outlook\"].unique()"
   ]
  },
  {
   "cell_type": "code",
   "execution_count": 32,
   "metadata": {},
   "outputs": [
    {
     "output_type": "execute_result",
     "data": {
      "text/plain": [
       "array([[  16.2573879 ,   71.33884226,    5.97187395, 1016.05385636],\n",
       "       [  32.29482238,   45.06282386,    7.10907176, 1002.88572149],\n",
       "       [  29.99249887,   68.08671294,    6.48037113, 1001.27511738],\n",
       "       [  24.27277667,   58.62123841,    6.37895167, 1011.63806481]])"
      ]
     },
     "metadata": {},
     "execution_count": 32
    }
   ],
   "source": [
    "kmeans.cluster_centers_"
   ]
  },
  {
   "cell_type": "code",
   "execution_count": 33,
   "metadata": {},
   "outputs": [
    {
     "output_type": "execute_result",
     "data": {
      "text/plain": [
       "(1416, 5)"
      ]
     },
     "metadata": {},
     "execution_count": 33
    }
   ],
   "source": [
    "dataFrame_5.shape"
   ]
  },
  {
   "cell_type": "code",
   "execution_count": 34,
   "metadata": {},
   "outputs": [],
   "source": [
    "x=dataFrame_5.drop('outlook', axis=1)\n",
    "y=dataFrame_5['outlook']"
   ]
  },
  {
   "cell_type": "code",
   "execution_count": 35,
   "metadata": {},
   "outputs": [],
   "source": [
    "X_train, X_test, y_train, y_test = train_test_split(x, y, test_size = 0.20)"
   ]
  },
  {
   "cell_type": "code",
   "execution_count": 36,
   "metadata": {},
   "outputs": [
    {
     "output_type": "execute_result",
     "data": {
      "text/plain": [
       "SVC(degree=8, kernel='linear')"
      ]
     },
     "metadata": {},
     "execution_count": 36
    }
   ],
   "source": [
    "svclassifier = SVC(kernel='linear', degree=8)\n",
    "svclassifier.fit(X_train, y_train)"
   ]
  },
  {
   "cell_type": "code",
   "execution_count": 37,
   "metadata": {},
   "outputs": [
    {
     "output_type": "execute_result",
     "data": {
      "text/plain": [
       "array(['Cloudy', 'Cloudy', 'Clear', 'Clear', 'Cold', 'Cold', 'Clear',\n",
       "       'Cold', 'Cold', 'Partly cloud', 'Cold', 'Partly cloud', 'Clear',\n",
       "       'Partly cloud', 'Cold', 'Cold', 'Cloudy', 'Clear', 'Cold', 'Cold',\n",
       "       'Cold', 'Cloudy', 'Cloudy', 'Clear', 'Cloudy', 'Clear', 'Cold',\n",
       "       'Clear', 'Clear', 'Clear', 'Cloudy', 'Partly cloud', 'Cloudy',\n",
       "       'Partly cloud', 'Clear', 'Cold', 'Cloudy', 'Cloudy', 'Cloudy',\n",
       "       'Cloudy', 'Cloudy', 'Partly cloud', 'Cold', 'Cold', 'Cloudy',\n",
       "       'Cold', 'Partly cloud', 'Cloudy', 'Partly cloud', 'Cloudy',\n",
       "       'Cloudy', 'Partly cloud', 'Cold', 'Clear', 'Clear', 'Clear',\n",
       "       'Clear', 'Cold', 'Cloudy', 'Cold', 'Cold', 'Clear', 'Partly cloud',\n",
       "       'Cloudy', 'Partly cloud', 'Cold', 'Cloudy', 'Cold', 'Clear',\n",
       "       'Cold', 'Clear', 'Partly cloud', 'Clear', 'Cloudy', 'Partly cloud',\n",
       "       'Cloudy', 'Clear', 'Cloudy', 'Clear', 'Clear', 'Cold', 'Cloudy',\n",
       "       'Clear', 'Cold', 'Cold', 'Partly cloud', 'Cold', 'Clear',\n",
       "       'Partly cloud', 'Cold', 'Partly cloud', 'Partly cloud', 'Clear',\n",
       "       'Cold', 'Partly cloud', 'Cloudy', 'Cold', 'Cold', 'Cloudy',\n",
       "       'Partly cloud', 'Partly cloud', 'Clear', 'Clear', 'Partly cloud',\n",
       "       'Cold', 'Partly cloud', 'Partly cloud', 'Clear', 'Clear', 'Cloudy',\n",
       "       'Clear', 'Cloudy', 'Cloudy', 'Partly cloud', 'Clear', 'Clear',\n",
       "       'Cold', 'Cold', 'Cloudy', 'Clear', 'Cloudy', 'Cloudy', 'Cloudy',\n",
       "       'Partly cloud', 'Clear', 'Clear', 'Clear', 'Cloudy', 'Cold',\n",
       "       'Partly cloud', 'Cloudy', 'Clear', 'Clear', 'Cloudy', 'Cold',\n",
       "       'Clear', 'Partly cloud', 'Clear', 'Clear', 'Clear', 'Partly cloud',\n",
       "       'Cloudy', 'Partly cloud', 'Clear', 'Clear', 'Cold', 'Cloudy',\n",
       "       'Cloudy', 'Partly cloud', 'Cloudy', 'Partly cloud', 'Clear',\n",
       "       'Cloudy', 'Cold', 'Cloudy', 'Clear', 'Cloudy', 'Clear', 'Cloudy',\n",
       "       'Cold', 'Cloudy', 'Cold', 'Cloudy', 'Cloudy', 'Cloudy',\n",
       "       'Partly cloud', 'Cloudy', 'Cold', 'Cloudy', 'Cloudy', 'Cold',\n",
       "       'Cold', 'Cloudy', 'Cloudy', 'Cloudy', 'Partly cloud', 'Cold',\n",
       "       'Clear', 'Cold', 'Clear', 'Clear', 'Cloudy', 'Clear',\n",
       "       'Partly cloud', 'Partly cloud', 'Cold', 'Partly cloud', 'Cold',\n",
       "       'Cold', 'Clear', 'Clear', 'Partly cloud', 'Partly cloud', 'Clear',\n",
       "       'Cloudy', 'Cloudy', 'Partly cloud', 'Cold', 'Cold', 'Clear',\n",
       "       'Clear', 'Cloudy', 'Cold', 'Cold', 'Partly cloud', 'Clear',\n",
       "       'Cloudy', 'Cloudy', 'Cloudy', 'Partly cloud', 'Partly cloud',\n",
       "       'Cold', 'Cold', 'Cold', 'Cold', 'Cloudy', 'Partly cloud',\n",
       "       'Partly cloud', 'Cloudy', 'Cold', 'Partly cloud', 'Cold', 'Clear',\n",
       "       'Cloudy', 'Cold', 'Clear', 'Clear', 'Cloudy', 'Partly cloud',\n",
       "       'Partly cloud', 'Cold', 'Cloudy', 'Clear', 'Cloudy',\n",
       "       'Partly cloud', 'Cloudy', 'Partly cloud', 'Partly cloud', 'Cold',\n",
       "       'Cold', 'Cold', 'Cloudy', 'Cold', 'Cloudy', 'Clear', 'Cloudy',\n",
       "       'Clear', 'Cloudy', 'Cloudy', 'Partly cloud', 'Cloudy', 'Cold',\n",
       "       'Clear', 'Partly cloud', 'Cloudy', 'Cold', 'Cloudy', 'Clear',\n",
       "       'Cold', 'Cloudy', 'Clear', 'Partly cloud', 'Clear', 'Cold',\n",
       "       'Cloudy', 'Clear', 'Cold', 'Clear', 'Cold', 'Partly cloud',\n",
       "       'Cloudy', 'Partly cloud', 'Cloudy', 'Clear', 'Clear', 'Cloudy',\n",
       "       'Partly cloud', 'Clear', 'Clear', 'Partly cloud', 'Cloudy',\n",
       "       'Partly cloud', 'Partly cloud', 'Partly cloud'], dtype=object)"
      ]
     },
     "metadata": {},
     "execution_count": 37
    }
   ],
   "source": [
    "y_pred = svclassifier.predict(X_test)\n",
    "y_pred"
   ]
  },
  {
   "cell_type": "code",
   "execution_count": 38,
   "metadata": {},
   "outputs": [
    {
     "output_type": "stream",
     "name": "stdout",
     "text": [
      "[[73  0  0  0]\n [ 0 82  1  0]\n [ 0  0 68  0]\n [ 0  0  0 60]]\n              precision    recall  f1-score   support\n\n       Clear       1.00      1.00      1.00        73\n      Cloudy       1.00      0.99      0.99        83\n        Cold       0.99      1.00      0.99        68\nPartly cloud       1.00      1.00      1.00        60\n\n    accuracy                           1.00       284\n   macro avg       1.00      1.00      1.00       284\nweighted avg       1.00      1.00      1.00       284\n\n"
     ]
    }
   ],
   "source": [
    "print(confusion_matrix(y_test, y_pred))\n",
    "print(classification_report(y_test, y_pred))"
   ]
  },
  {
   "cell_type": "code",
   "execution_count": 39,
   "metadata": {},
   "outputs": [
    {
     "output_type": "stream",
     "name": "stdout",
     "text": [
      "[[70  3  0  0]\n [ 1 80  0  2]\n [ 0  3 65  0]\n [ 0  3  0 57]]\n              precision    recall  f1-score   support\n\n       Clear       0.99      0.96      0.97        73\n      Cloudy       0.90      0.96      0.93        83\n        Cold       1.00      0.96      0.98        68\nPartly cloud       0.97      0.95      0.96        60\n\n    accuracy                           0.96       284\n   macro avg       0.96      0.96      0.96       284\nweighted avg       0.96      0.96      0.96       284\n\n"
     ]
    }
   ],
   "source": [
    "svclassifier = SVC(kernel='poly', degree=8)\n",
    "svclassifier.fit(X_train, y_train)\n",
    "y_pred = svclassifier.predict(X_test)\n",
    "print(confusion_matrix(y_test, y_pred))\n",
    "print(classification_report(y_test, y_pred))"
   ]
  },
  {
   "cell_type": "code",
   "execution_count": 40,
   "metadata": {},
   "outputs": [],
   "source": [
    "dataFrame_5.to_csv(\"DailyDelhiClimateTrain_5.csv\",index=False)"
   ]
  },
  {
   "cell_type": "code",
   "execution_count": null,
   "metadata": {},
   "outputs": [],
   "source": []
  },
  {
   "cell_type": "code",
   "execution_count": null,
   "metadata": {},
   "outputs": [],
   "source": []
  }
 ]
}